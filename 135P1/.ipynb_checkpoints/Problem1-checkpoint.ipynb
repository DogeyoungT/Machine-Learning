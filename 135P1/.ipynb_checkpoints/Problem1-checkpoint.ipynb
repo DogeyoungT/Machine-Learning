{
 "cells": [
  {
   "cell_type": "code",
   "execution_count": 1,
   "metadata": {},
   "outputs": [],
   "source": [
    "import os\n",
    "import numpy as np\n",
    "import sklearn\n",
    "import sklearn.linear_model\n",
    "import sklearn.metrics\n",
    "import matplotlib\n",
    "import matplotlib.pyplot as plt\n",
    "plt.style.use('seaborn') # pretty matplotlib plots\n",
    "\n",
    "import seaborn as sns\n",
    "sns.set('notebook', style='whitegrid', font_scale=1.25)\n",
    "\n",
    "def calc_mean_binary_cross_entropy_from_probas(ytrue_N, yproba_N):\n",
    "    return sklearn.metrics.log_loss(ytrue_N, yproba_N, labels=[0, 1]) / np.log(2.0)\n",
    "\n",
    "\n",
    "\n",
    "   "
   ]
  },
  {
   "cell_type": "code",
   "execution_count": 2,
   "metadata": {},
   "outputs": [],
   "source": [
    "DATA_DIR = os.path.join('.', 'data_digits_8_vs_9_noisy')\n",
    "\n",
    "x_tr_A = np.loadtxt(os.path.join(DATA_DIR, 'x_train.csv'), delimiter=',', skiprows=1)\n",
    "x_va_B = np.loadtxt(os.path.join(DATA_DIR, 'x_valid.csv'), delimiter=',', skiprows=1)\n",
    "x_te_B = np.loadtxt(os.path.join(DATA_DIR, 'x_test.csv'), delimiter=',', skiprows=1)\n",
    "\n",
    "y_tr_A = np.loadtxt(os.path.join(DATA_DIR, 'y_train.csv'), delimiter=',', skiprows=1)\n",
    "y_va_B = np.loadtxt(os.path.join(DATA_DIR, 'y_valid.csv'), delimiter=',', skiprows=1)\n",
    "\n",
    "\n",
    "\n",
    "\n"
   ]
  },
  {
   "cell_type": "code",
   "execution_count": null,
   "metadata": {},
   "outputs": [],
   "source": [
    "tr_err_list = list()\n",
    "va_err_list = list()\n",
    "tr_bce_list = list()\n",
    "va_bce_list = list()\n",
    "C = 1e6\n",
    "for i in range(1, 41):\n",
    "    lr = sklearn.linear_model.LogisticRegression(solver='lbfgs', C=C, max_iter=i).fit(x_tr_A, y_tr_A)\n",
    "    yproba_tr_N = lr.predict_proba(x_tr_A)[:, 1]\n",
    "    yproba_va_N = lr.predict_proba(x_va_B)[:, 1]\n",
    "\n",
    "    tr_bce = calc_mean_binary_cross_entropy_from_probas(y_tr_A, yproba_tr_N)\n",
    "    va_bce = calc_mean_binary_cross_entropy_from_probas(y_va_B, yproba_va_N)\n",
    "    tr_bce_list.append(tr_bce)\n",
    "    va_bce_list.append(va_bce)\n",
    "\n",
    "    tr_error = sklearn.metrics.zero_one_loss(y_tr_A, yproba_tr_N >= 0.5)\n",
    "    va_error = sklearn.metrics.zero_one_loss(y_va_B, yproba_va_N >= 0.5)\n",
    "    tr_err_list.append(tr_error)\n",
    "    va_err_list.append(va_error)\n"
   ]
  },
  {
   "cell_type": "code",
   "execution_count": null,
   "metadata": {},
   "outputs": [],
   "source": [
    "fig, ax_grid = plt.subplots(nrows=1, ncols=2, sharex=True, sharey=False,figsize=(16, 5.5))\n",
    "fig.tight_layout()\n",
    "cur_ax = ax_grid[0]\n",
    "plt.sca(cur_ax)\n",
    "cur_ax.set_title('binary cross entropy')\n",
    "plt.plot(range(1, 41), tr_bce_list, 'b.-', label='train binary cross entropy')\n",
    "plt.plot(range(1, 41), va_bce_list, 'r.-', label='valid binary cross entropy')\n",
    "plt.ylabel('0-1 error rate')\n",
    "plt.xlabel(\"binary cross entropy\")\n",
    "plt.legend(bbox_to_anchor=(0.7, 1))\n",
    "plt.ylim([0, 1])\n",
    "\n",
    "cur_ax = ax_grid[1]\n",
    "plt.sca(cur_ax)\n",
    "cur_ax.set_title('error rate')\n",
    "plt.plot(range(1, 41), tr_err_list, 'b.-', label='train err')\n",
    "plt.plot(range(1, 41), va_err_list, 'r.-', label='valid err')\n",
    "plt.ylabel('0-1 error rate')\n",
    "plt.xlabel(\"iteration\")\n",
    "plt.legend(bbox_to_anchor=(0.7, 1))\n",
    "plt.ylim([0, 1])\n",
    "\n"
   ]
  },
  {
   "cell_type": "code",
   "execution_count": null,
   "metadata": {},
   "outputs": [],
   "source": []
  },
  {
   "cell_type": "code",
   "execution_count": null,
   "metadata": {},
   "outputs": [],
   "source": [
    "tr_err_list = list()\n",
    "va_err_list = list()\n",
    "tr_bce_list = list()\n",
    "va_bce_list = list()\n",
    "i = 1000\n",
    "C_grid = np.logspace(-9, 6, 31)\n",
    "for C in C_grid:\n",
    "    lr = sklearn.linear_model.LogisticRegression(solver='lbfgs', C=C, max_iter=i).fit(x_tr_A, y_tr_A)\n",
    "    yproba_tr_N = lr.predict_proba(x_tr_A)[:, 1]\n",
    "    yproba_va_N = lr.predict_proba(x_va_B)[:, 1]\n",
    "\n",
    "    tr_bce = calc_mean_binary_cross_entropy_from_probas(y_tr_A, yproba_tr_N)\n",
    "    va_bce = calc_mean_binary_cross_entropy_from_probas(y_va_B, yproba_va_N)\n",
    "    tr_bce_list.append(tr_bce)\n",
    "    va_bce_list.append(va_bce)\n",
    "\n",
    "    tr_error = sklearn.metrics.zero_one_loss(y_tr_A, yproba_tr_N >= 0.5)\n",
    "    va_error = sklearn.metrics.zero_one_loss(y_va_B, yproba_va_N >= 0.5)\n",
    "    tr_err_list.append(tr_error)\n",
    "    va_err_list.append(va_error)"
   ]
  },
  {
   "cell_type": "code",
   "execution_count": null,
   "metadata": {},
   "outputs": [],
   "source": [
    "fig, ax_grid = plt.subplots(nrows=1, ncols=2, sharex=True, sharey=False,figsize=(16, 5.5))\n",
    "fig.tight_layout()\n",
    "cur_ax = ax_grid[0]\n",
    "plt.sca(cur_ax)\n",
    "cur_ax.set_title('binary cross entropy')\n",
    "plt.plot(range(1, 41), tr_bce_list, 'b.-', label='train binary cross entropy')\n",
    "plt.plot(range(1, 41), va_bce_list, 'r.-', label='valid binary cross entropy')\n",
    "plt.ylabel('0-1 error rate')\n",
    "plt.xlabel(\"binary cross entropy\")\n",
    "plt.legend(bbox_to_anchor=(0.7, 1))\n",
    "plt.ylim([0, 1])\n",
    "\n",
    "cur_ax = ax_grid[1]\n",
    "plt.sca(cur_ax)\n",
    "cur_ax.set_title('error rate')\n",
    "plt.plot(range(1, 41), tr_err_list, 'b.-', label='train err')\n",
    "plt.plot(range(1, 41), va_err_list, 'r.-', label='valid err')\n",
    "plt.ylabel('0-1 error rate')\n",
    "plt.xlabel(\"iteration\")\n",
    "plt.legend(bbox_to_anchor=(0.7, 1))\n",
    "plt.ylim([0, 1])"
   ]
  }
 ],
 "metadata": {
  "kernelspec": {
   "display_name": "Python 3",
   "language": "python",
   "name": "python3"
  },
  "language_info": {
   "codemirror_mode": {
    "name": "ipython",
    "version": 3
   },
   "file_extension": ".py",
   "mimetype": "text/x-python",
   "name": "python",
   "nbconvert_exporter": "python",
   "pygments_lexer": "ipython3",
   "version": "3.8.5"
  }
 },
 "nbformat": 4,
 "nbformat_minor": 4
}
