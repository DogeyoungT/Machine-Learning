{
 "cells": [
  {
   "cell_type": "code",
   "execution_count": 1,
   "metadata": {},
   "outputs": [],
   "source": [
    "import os\n",
    "import numpy as np\n",
    "import sklearn\n",
    "import sklearn.linear_model\n",
    "import sklearn.metrics\n",
    "import matplotlib\n",
    "import matplotlib.pyplot as plt\n",
    "from confusion_matrix import calc_confusion_matrix_for_probas_and_threshold\n",
    "from show_images import show_images\n",
    "plt.style.use('seaborn') # pretty matplotlib plots\n",
    "\n",
    "import seaborn as sns\n",
    "sns.set('notebook', style='whitegrid', font_scale=1.25)\n",
    "\n",
    "def calc_mean_binary_cross_entropy_from_probas(ytrue_N, yproba_N):\n",
    "    return sklearn.metrics.log_loss(ytrue_N, yproba_N, labels=[0, 1]) / np.log(2.0)\n",
    "\n",
    "\n",
    "\n"
   ]
  },
  {
   "cell_type": "code",
   "execution_count": 3,
   "metadata": {},
   "outputs": [],
   "source": [
    "DATA_DIR = os.path.join('.', 'data_sneaker_vs_sandal')\n",
    "\n",
    "x_all = np.loadtxt(os.path.join(DATA_DIR, 'x_train.csv'), delimiter=',', skiprows=1)\n",
    "y_all = np.loadtxt(os.path.join(DATA_DIR, 'y_train.csv'), delimiter=',', skiprows=1)\n",
    "\n",
    "A = x_All.shape[0]\n",
    "\n",
    "x_tr = x_all[:4000]\n",
    "y_tr = y_all[:4000]\n",
    "\n",
    "x_va = x_all[4000:8000]\n",
    "y_va = y_all[4000:8000]\n",
    "\n",
    "x_te = x_all[8000:12000]\n",
    "y_te = y_all[8000:12000]"
   ]
  },
  {
   "cell_type": "code",
   "execution_count": 4,
   "metadata": {},
   "outputs": [
    {
     "data": {
      "text/plain": [
       "12000"
      ]
     },
     "execution_count": 4,
     "metadata": {},
     "output_type": "execute_result"
    }
   ],
   "source": [
    "# Baseline: raw pixel features, fed into a Logistic Regression classifier\n",
    "tr_err_list = list()\n",
    "va_err_list = list()\n",
    "tr_bce_list = list()\n",
    "va_bce_list = list()\n",
    "C = 1e6\n",
    "for i in range(1, 41):\n",
    "    lr = sklearn.linear_model.LogisticRegression(solver='lbfgs', C=C, max_iter=i).fit(x_tr_A, y_tr_A)\n",
    "    yproba_tr = lr.predict_proba(x_tr_A)[:, 1]\n",
    "    yproba_va = lr.predict_proba(x_va_B)[:, 1]\n",
    "\n",
    "    tr_bce = calc_mean_binary_cross_entropy_from_probas(y_tr_A, yproba_tr_N)\n",
    "    va_bce = calc_mean_binary_cross_entropy_from_probas(y_va_B, yproba_va_N)\n",
    "    tr_bce_list.append(tr_bce)\n",
    "    va_bce_list.append(va_bce)\n",
    "\n",
    "    tr_error = sklearn.metrics.zero_one_loss(y_tr_A, yproba_tr_N >= 0.5)\n",
    "    va_error = sklearn.metrics.zero_one_loss(y_va_B, yproba_va_N >= 0.5)\n",
    "    tr_err_list.append(tr_error)\n",
    "    va_err_list.append(va_error)\n",
    "\n"
   ]
  },
  {
   "cell_type": "code",
   "execution_count": null,
   "metadata": {},
   "outputs": [],
   "source": []
  }
 ],
 "metadata": {
  "kernelspec": {
   "display_name": "Python 3",
   "language": "python",
   "name": "python3"
  },
  "language_info": {
   "codemirror_mode": {
    "name": "ipython",
    "version": 3
   },
   "file_extension": ".py",
   "mimetype": "text/x-python",
   "name": "python",
   "nbconvert_exporter": "python",
   "pygments_lexer": "ipython3",
   "version": "3.8.5"
  }
 },
 "nbformat": 4,
 "nbformat_minor": 4
}
