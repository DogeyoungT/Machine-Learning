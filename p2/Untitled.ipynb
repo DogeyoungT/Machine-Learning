{
 "cells": [
  {
   "cell_type": "code",
   "execution_count": 1,
   "metadata": {},
   "outputs": [
    {
     "data": {
      "text/plain": [
       "['document', 'second']"
      ]
     },
     "execution_count": 1,
     "metadata": {},
     "output_type": "execute_result"
    }
   ],
   "source": [
    "from sklearn.feature_extraction.text import CountVectorizer\n",
    "from sklearn.feature_extraction.text import TfidfVectorizer\n",
    "corpus = [\n",
    "'This is the first document.',\n",
    "'This is the second second document.',\n",
    "'And the third one.',\n",
    "'Is this the first document?',\n",
    "]\n",
    "Count_vectorizer = CountVectorizer()\n",
    "Tfid_vectorizer = TfidfVectorizer(max_features = 2,stop_words = 'english')\n",
    "\n",
    "X = Count_vectorizer.fit_transform(corpus)\n",
    "\n",
    "Count_vectorizer.transform(['This is not a document.']).toarray()\n",
    "\n",
    "Y = Tfid_vectorizer.fit_transform(corpus)\n",
    "\n",
    "Tfid_vectorizer.transform(['This is not one a document.']).toarray()\n",
    "\n",
    "Tfid_vectorizer.get_feature_names()"
   ]
  },
  {
   "cell_type": "code",
   "execution_count": null,
   "metadata": {},
   "outputs": [],
   "source": []
  }
 ],
 "metadata": {
  "kernelspec": {
   "display_name": "Python 3",
   "language": "python",
   "name": "python3"
  },
  "language_info": {
   "codemirror_mode": {
    "name": "ipython",
    "version": 3
   },
   "file_extension": ".py",
   "mimetype": "text/x-python",
   "name": "python",
   "nbconvert_exporter": "python",
   "pygments_lexer": "ipython3",
   "version": "3.8.5"
  }
 },
 "nbformat": 4,
 "nbformat_minor": 4
}
