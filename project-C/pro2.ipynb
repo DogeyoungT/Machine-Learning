{
 "cells": [
  {
   "cell_type": "code",
   "execution_count": 1,
   "metadata": {},
   "outputs": [],
   "source": [
    "import autograd\n",
    "import autograd.numpy as ag_np\n",
    "import CollabFilterMeanOnly\n",
    "import CollabFilterOneScalarPerItem\n",
    "import CollabFilterOneVectorPerItem\n",
    "from train_valid_test_loader import load_train_valid_test_datasets"
   ]
  },
  {
   "cell_type": "code",
   "execution_count": 2,
   "metadata": {},
   "outputs": [],
   "source": [
    "train_tuple, valid_tuple, test_tuple, n_users, n_items = load_train_valid_test_datasets()\n"
   ]
  },
  {
   "cell_type": "code",
   "execution_count": 45,
   "metadata": {},
   "outputs": [
    {
     "name": "stdout",
     "output_type": "stream",
     "text": [
      "epoch       0.000 | loss_total    13.63800 | train_MAE     3.53059 | valid_MAE     3.54504 | grad_wrt_mu     7.03040 | grad_wrt_b_per_user     0.00746 | grad_wrt_c_per_item     0.00418\n",
      "epoch       0.143 | loss_total     3.20430 | train_MAE     1.43372 | valid_MAE     1.41972 | grad_wrt_mu     2.79115 | grad_wrt_b_per_user     0.00296 | grad_wrt_c_per_item     0.00166\n",
      "epoch       0.286 | loss_total     1.57744 | train_MAE     1.01515 | valid_MAE     1.02081 | grad_wrt_mu     1.11647 | grad_wrt_b_per_user     0.00139 | grad_wrt_c_per_item     0.00086\n",
      "epoch       0.429 | loss_total     1.36011 | train_MAE     0.91603 | valid_MAE     0.91417 | grad_wrt_mu     0.50427 | grad_wrt_b_per_user     0.00096 | grad_wrt_c_per_item     0.00060\n",
      "epoch       0.571 | loss_total     1.26861 | train_MAE     0.95398 | valid_MAE     0.95563 | grad_wrt_mu     0.22958 | grad_wrt_b_per_user     0.00090 | grad_wrt_c_per_item     0.00059\n",
      "epoch       0.714 | loss_total     1.23331 | train_MAE     0.93540 | valid_MAE     0.93556 | grad_wrt_mu     0.07131 | grad_wrt_b_per_user     0.00083 | grad_wrt_c_per_item     0.00055\n",
      "epoch       0.857 | loss_total     1.23021 | train_MAE     0.94002 | valid_MAE     0.94074 | grad_wrt_mu     0.05623 | grad_wrt_b_per_user     0.00087 | grad_wrt_c_per_item     0.00056\n",
      "epoch       1.000 | loss_total     1.25906 | train_MAE     0.93480 | valid_MAE     0.93522 | grad_wrt_mu     0.06280 | grad_wrt_b_per_user     0.00087 | grad_wrt_c_per_item     0.00056\n",
      "epoch       1.143 | loss_total     1.23283 | train_MAE     0.93871 | valid_MAE     0.93963 | grad_wrt_mu     0.04141 | grad_wrt_b_per_user     0.00085 | grad_wrt_c_per_item     0.00056\n",
      "epoch       1.286 | loss_total     1.23770 | train_MAE     0.93465 | valid_MAE     0.93536 | grad_wrt_mu     0.02665 | grad_wrt_b_per_user     0.00084 | grad_wrt_c_per_item     0.00056\n",
      "epoch       1.429 | loss_total     1.22538 | train_MAE     0.93586 | valid_MAE     0.93681 | grad_wrt_mu     0.01965 | grad_wrt_b_per_user     0.00086 | grad_wrt_c_per_item     0.00054\n",
      "epoch       1.571 | loss_total     1.26782 | train_MAE     0.93350 | valid_MAE     0.93438 | grad_wrt_mu     0.01529 | grad_wrt_b_per_user     0.00087 | grad_wrt_c_per_item     0.00055\n",
      "epoch       1.714 | loss_total     1.26074 | train_MAE     0.93381 | valid_MAE     0.93488 | grad_wrt_mu     0.03924 | grad_wrt_b_per_user     0.00084 | grad_wrt_c_per_item     0.00057\n",
      "epoch       1.857 | loss_total     1.22032 | train_MAE     0.93594 | valid_MAE     0.93737 | grad_wrt_mu     0.06643 | grad_wrt_b_per_user     0.00083 | grad_wrt_c_per_item     0.00056\n",
      "epoch       2.000 | loss_total     1.23126 | train_MAE     0.92998 | valid_MAE     0.93101 | grad_wrt_mu     0.02347 | grad_wrt_b_per_user     0.00084 | grad_wrt_c_per_item     0.00056\n",
      "epoch       2.571 | loss_total     1.23653 | train_MAE     0.92653 | valid_MAE     0.92786 | grad_wrt_mu     0.05696 | grad_wrt_b_per_user     0.00085 | grad_wrt_c_per_item     0.00056\n",
      "epoch       3.000 | loss_total     1.22687 | train_MAE     0.92779 | valid_MAE     0.92964 | grad_wrt_mu     0.01207 | grad_wrt_b_per_user     0.00083 | grad_wrt_c_per_item     0.00055\n",
      "epoch       3.571 | loss_total     1.21533 | train_MAE     0.92092 | valid_MAE     0.92271 | grad_wrt_mu     0.03338 | grad_wrt_b_per_user     0.00083 | grad_wrt_c_per_item     0.00053\n",
      "epoch       4.000 | loss_total     1.20766 | train_MAE     0.92074 | valid_MAE     0.92292 | grad_wrt_mu     0.00353 | grad_wrt_b_per_user     0.00082 | grad_wrt_c_per_item     0.00054\n",
      "epoch       4.571 | loss_total     1.20188 | train_MAE     0.91624 | valid_MAE     0.91854 | grad_wrt_mu     0.01753 | grad_wrt_b_per_user     0.00080 | grad_wrt_c_per_item     0.00053\n",
      "epoch       5.000 | loss_total     1.19976 | train_MAE     0.91603 | valid_MAE     0.91873 | grad_wrt_mu     0.02321 | grad_wrt_b_per_user     0.00080 | grad_wrt_c_per_item     0.00053\n",
      "epoch       5.571 | loss_total     1.18795 | train_MAE     0.91322 | valid_MAE     0.91620 | grad_wrt_mu     0.00141 | grad_wrt_b_per_user     0.00081 | grad_wrt_c_per_item     0.00052\n",
      "epoch       6.000 | loss_total     1.18764 | train_MAE     0.91241 | valid_MAE     0.91570 | grad_wrt_mu     0.04366 | grad_wrt_b_per_user     0.00081 | grad_wrt_c_per_item     0.00054\n",
      "epoch       6.571 | loss_total     1.17995 | train_MAE     0.90610 | valid_MAE     0.90932 | grad_wrt_mu     0.05846 | grad_wrt_b_per_user     0.00081 | grad_wrt_c_per_item     0.00051\n",
      "epoch       7.000 | loss_total     1.17086 | train_MAE     0.90430 | valid_MAE     0.90774 | grad_wrt_mu     0.00364 | grad_wrt_b_per_user     0.00076 | grad_wrt_c_per_item     0.00051\n",
      "epoch       7.571 | loss_total     1.16747 | train_MAE     0.90132 | valid_MAE     0.90496 | grad_wrt_mu     0.00195 | grad_wrt_b_per_user     0.00077 | grad_wrt_c_per_item     0.00054\n",
      "epoch       8.000 | loss_total     1.16106 | train_MAE     0.90225 | valid_MAE     0.90633 | grad_wrt_mu     0.04781 | grad_wrt_b_per_user     0.00075 | grad_wrt_c_per_item     0.00051\n",
      "epoch       9.000 | loss_total     1.15495 | train_MAE     0.89397 | valid_MAE     0.89812 | grad_wrt_mu     0.02318 | grad_wrt_b_per_user     0.00077 | grad_wrt_c_per_item     0.00050\n",
      "epoch      10.000 | loss_total     1.14262 | train_MAE     0.89155 | valid_MAE     0.89625 | grad_wrt_mu     0.00658 | grad_wrt_b_per_user     0.00075 | grad_wrt_c_per_item     0.00051\n",
      "epoch      11.000 | loss_total     1.13096 | train_MAE     0.88680 | valid_MAE     0.89182 | grad_wrt_mu     0.00858 | grad_wrt_b_per_user     0.00072 | grad_wrt_c_per_item     0.00047\n",
      "epoch      12.000 | loss_total     1.12647 | train_MAE     0.88540 | valid_MAE     0.89099 | grad_wrt_mu     0.04062 | grad_wrt_b_per_user     0.00071 | grad_wrt_c_per_item     0.00050\n",
      "epoch      13.000 | loss_total     1.11455 | train_MAE     0.88193 | valid_MAE     0.88791 | grad_wrt_mu     0.09076 | grad_wrt_b_per_user     0.00069 | grad_wrt_c_per_item     0.00049\n",
      "epoch      14.000 | loss_total     1.10878 | train_MAE     0.87395 | valid_MAE     0.87988 | grad_wrt_mu     0.03717 | grad_wrt_b_per_user     0.00071 | grad_wrt_c_per_item     0.00046\n",
      "epoch      15.000 | loss_total     1.10154 | train_MAE     0.86922 | valid_MAE     0.87537 | grad_wrt_mu     0.00407 | grad_wrt_b_per_user     0.00070 | grad_wrt_c_per_item     0.00046\n",
      "epoch      16.000 | loss_total     1.09478 | train_MAE     0.86715 | valid_MAE     0.87373 | grad_wrt_mu     0.01527 | grad_wrt_b_per_user     0.00068 | grad_wrt_c_per_item     0.00048\n",
      "epoch      17.000 | loss_total     1.08346 | train_MAE     0.86280 | valid_MAE     0.86958 | grad_wrt_mu     0.01649 | grad_wrt_b_per_user     0.00067 | grad_wrt_c_per_item     0.00046\n",
      "epoch      18.000 | loss_total     1.08149 | train_MAE     0.86059 | valid_MAE     0.86775 | grad_wrt_mu     0.00322 | grad_wrt_b_per_user     0.00066 | grad_wrt_c_per_item     0.00046\n",
      "epoch      19.000 | loss_total     1.07257 | train_MAE     0.85534 | valid_MAE     0.86255 | grad_wrt_mu     0.01818 | grad_wrt_b_per_user     0.00064 | grad_wrt_c_per_item     0.00045\n",
      "epoch      20.000 | loss_total     1.06954 | train_MAE     0.85008 | valid_MAE     0.85732 | grad_wrt_mu     0.04622 | grad_wrt_b_per_user     0.00066 | grad_wrt_c_per_item     0.00045\n",
      "epoch      21.000 | loss_total     1.06425 | train_MAE     0.84906 | valid_MAE     0.85674 | grad_wrt_mu     0.01718 | grad_wrt_b_per_user     0.00064 | grad_wrt_c_per_item     0.00044\n",
      "epoch      22.000 | loss_total     1.05617 | train_MAE     0.84856 | valid_MAE     0.85667 | grad_wrt_mu     0.05820 | grad_wrt_b_per_user     0.00063 | grad_wrt_c_per_item     0.00044\n",
      "epoch      23.000 | loss_total     1.05429 | train_MAE     0.84296 | valid_MAE     0.85102 | grad_wrt_mu     0.02564 | grad_wrt_b_per_user     0.00063 | grad_wrt_c_per_item     0.00043\n",
      "epoch      24.000 | loss_total     1.05204 | train_MAE     0.84045 | valid_MAE     0.84873 | grad_wrt_mu     0.01896 | grad_wrt_b_per_user     0.00064 | grad_wrt_c_per_item     0.00043\n",
      "epoch      25.000 | loss_total     1.03940 | train_MAE     0.83819 | valid_MAE     0.84669 | grad_wrt_mu     0.04323 | grad_wrt_b_per_user     0.00059 | grad_wrt_c_per_item     0.00043\n",
      "epoch      26.000 | loss_total     1.04545 | train_MAE     0.83652 | valid_MAE     0.84526 | grad_wrt_mu     0.01256 | grad_wrt_b_per_user     0.00061 | grad_wrt_c_per_item     0.00042\n"
     ]
    },
    {
     "name": "stdout",
     "output_type": "stream",
     "text": [
      "epoch      27.000 | loss_total     1.03364 | train_MAE     0.83120 | valid_MAE     0.83993 | grad_wrt_mu     0.09147 | grad_wrt_b_per_user     0.00063 | grad_wrt_c_per_item     0.00042\n",
      "epoch      28.000 | loss_total     1.02835 | train_MAE     0.82928 | valid_MAE     0.83821 | grad_wrt_mu     0.00101 | grad_wrt_b_per_user     0.00059 | grad_wrt_c_per_item     0.00042\n",
      "epoch      29.000 | loss_total     1.02770 | train_MAE     0.82689 | valid_MAE     0.83600 | grad_wrt_mu     0.00906 | grad_wrt_b_per_user     0.00058 | grad_wrt_c_per_item     0.00042\n",
      "epoch      29.857 | loss_total     1.02323 | train_MAE     0.82683 | valid_MAE     0.83626 | grad_wrt_mu     0.01302 | grad_wrt_b_per_user     0.00058 | grad_wrt_c_per_item     0.00040\n"
     ]
    }
   ],
   "source": [
    "model_large = CollabFilterOneScalarPerItem.CollabFilterOneScalarPerItem(\n",
    "    n_epochs=30, batch_size=10000, step_size=0.7)\n",
    "model_large.init_parameter_dict(n_users, n_items, train_tuple)\n",
    "model_large.fit(train_tuple, valid_tuple)"
   ]
  },
  {
   "cell_type": "code",
   "execution_count": 46,
   "metadata": {},
   "outputs": [
    {
     "data": {
      "text/plain": [
       "3.4913535388570147"
      ]
     },
     "execution_count": 46,
     "metadata": {},
     "output_type": "execute_result"
    }
   ],
   "source": [
    "float(model_large.param_dict['mu'])"
   ]
  },
  {
   "cell_type": "code",
   "execution_count": 47,
   "metadata": {},
   "outputs": [
    {
     "data": {
      "text/plain": [
       "0.8360003697078339"
      ]
     },
     "execution_count": 47,
     "metadata": {},
     "output_type": "execute_result"
    }
   ],
   "source": [
    "ag_np.min(model_large.trace_mae_valid)"
   ]
  },
  {
   "cell_type": "code",
   "execution_count": 48,
   "metadata": {},
   "outputs": [
    {
     "data": {
      "text/plain": [
       "{'mse': 1.0431194515774205, 'mae': 0.8341319937980728}"
      ]
     },
     "execution_count": 48,
     "metadata": {},
     "output_type": "execute_result"
    }
   ],
   "source": [
    "model_large.evaluate_perf_metrics(*test_tuple)"
   ]
  },
  {
   "cell_type": "code",
   "execution_count": 49,
   "metadata": {},
   "outputs": [
    {
     "name": "stdout",
     "output_type": "stream",
     "text": [
      "epoch       0.000 | loss_total    13.41000 | train_MAE     3.53059 | valid_MAE     3.54504 | grad_wrt_mu     7.02000 | grad_wrt_b_per_user     0.00744 | grad_wrt_c_per_item     0.00417\n",
      "epoch       0.001 | loss_total     9.63843 | train_MAE     2.82615 | valid_MAE     2.84067 | grad_wrt_mu     5.81060 | grad_wrt_b_per_user     0.00616 | grad_wrt_c_per_item     0.00345\n",
      "epoch       0.003 | loss_total     6.49626 | train_MAE     2.27805 | valid_MAE     2.29101 | grad_wrt_mu     4.56607 | grad_wrt_b_per_user     0.00493 | grad_wrt_c_per_item     0.00276\n",
      "epoch       0.004 | loss_total     4.19962 | train_MAE     1.87608 | valid_MAE     1.88653 | grad_wrt_mu     3.54967 | grad_wrt_b_per_user     0.00386 | grad_wrt_c_per_item     0.00218\n",
      "epoch       0.126 | loss_total     1.19280 | train_MAE     0.94047 | valid_MAE     0.94235 | grad_wrt_mu     0.50725 | grad_wrt_b_per_user     0.00192 | grad_wrt_c_per_item     0.00108\n",
      "epoch       0.250 | loss_total     1.06353 | train_MAE     0.91026 | valid_MAE     0.91117 | grad_wrt_mu     0.36033 | grad_wrt_b_per_user     0.00163 | grad_wrt_c_per_item     0.00099\n",
      "epoch       0.376 | loss_total     1.24513 | train_MAE     0.91251 | valid_MAE     0.91528 | grad_wrt_mu     0.21098 | grad_wrt_b_per_user     0.00187 | grad_wrt_c_per_item     0.00110\n",
      "epoch       0.500 | loss_total     1.42168 | train_MAE     0.90881 | valid_MAE     0.91274 | grad_wrt_mu     0.00207 | grad_wrt_b_per_user     0.00202 | grad_wrt_c_per_item     0.00112\n",
      "epoch       0.626 | loss_total     0.79541 | train_MAE     0.89735 | valid_MAE     0.90179 | grad_wrt_mu     0.06683 | grad_wrt_b_per_user     0.00151 | grad_wrt_c_per_item     0.00078\n",
      "epoch       0.750 | loss_total     1.14587 | train_MAE     0.89170 | valid_MAE     0.89686 | grad_wrt_mu     0.23534 | grad_wrt_b_per_user     0.00182 | grad_wrt_c_per_item     0.00105\n",
      "epoch       0.876 | loss_total     1.26937 | train_MAE     0.87509 | valid_MAE     0.88026 | grad_wrt_mu     0.45538 | grad_wrt_b_per_user     0.00188 | grad_wrt_c_per_item     0.00106\n",
      "epoch       1.000 | loss_total     1.18758 | train_MAE     0.86836 | valid_MAE     0.87414 | grad_wrt_mu     0.20558 | grad_wrt_b_per_user     0.00183 | grad_wrt_c_per_item     0.00092\n",
      "epoch       1.126 | loss_total     0.93402 | train_MAE     0.86358 | valid_MAE     0.86990 | grad_wrt_mu     0.12262 | grad_wrt_b_per_user     0.00159 | grad_wrt_c_per_item     0.00089\n",
      "epoch       1.250 | loss_total     0.96380 | train_MAE     0.86184 | valid_MAE     0.86903 | grad_wrt_mu     0.11727 | grad_wrt_b_per_user     0.00167 | grad_wrt_c_per_item     0.00095\n",
      "epoch       1.376 | loss_total     1.04545 | train_MAE     0.85479 | valid_MAE     0.86242 | grad_wrt_mu     0.02312 | grad_wrt_b_per_user     0.00172 | grad_wrt_c_per_item     0.00096\n",
      "epoch       1.500 | loss_total     1.01708 | train_MAE     0.85028 | valid_MAE     0.85825 | grad_wrt_mu     0.28773 | grad_wrt_b_per_user     0.00175 | grad_wrt_c_per_item     0.00099\n",
      "epoch       1.626 | loss_total     1.14766 | train_MAE     0.84148 | valid_MAE     0.84948 | grad_wrt_mu     0.01614 | grad_wrt_b_per_user     0.00180 | grad_wrt_c_per_item     0.00101\n",
      "epoch       1.750 | loss_total     1.06384 | train_MAE     0.84919 | valid_MAE     0.85870 | grad_wrt_mu     0.28176 | grad_wrt_b_per_user     0.00160 | grad_wrt_c_per_item     0.00095\n",
      "epoch       1.876 | loss_total     1.06754 | train_MAE     0.82633 | valid_MAE     0.83475 | grad_wrt_mu     0.31252 | grad_wrt_b_per_user     0.00166 | grad_wrt_c_per_item     0.00088\n",
      "epoch       2.000 | loss_total     0.87244 | train_MAE     0.83136 | valid_MAE     0.84083 | grad_wrt_mu     0.30247 | grad_wrt_b_per_user     0.00156 | grad_wrt_c_per_item     0.00088\n",
      "epoch       2.500 | loss_total     1.03541 | train_MAE     0.81263 | valid_MAE     0.82326 | grad_wrt_mu     0.10734 | grad_wrt_b_per_user     0.00165 | grad_wrt_c_per_item     0.00091\n",
      "epoch       3.000 | loss_total     1.00802 | train_MAE     0.80434 | valid_MAE     0.81570 | grad_wrt_mu     0.01776 | grad_wrt_b_per_user     0.00163 | grad_wrt_c_per_item     0.00091\n",
      "epoch       3.500 | loss_total     0.98808 | train_MAE     0.79572 | valid_MAE     0.80784 | grad_wrt_mu     0.11181 | grad_wrt_b_per_user     0.00148 | grad_wrt_c_per_item     0.00086\n",
      "epoch       4.000 | loss_total     0.97311 | train_MAE     0.79004 | valid_MAE     0.80337 | grad_wrt_mu     0.12009 | grad_wrt_b_per_user     0.00149 | grad_wrt_c_per_item     0.00088\n",
      "epoch       4.500 | loss_total     0.95863 | train_MAE     0.78004 | valid_MAE     0.79325 | grad_wrt_mu     0.52010 | grad_wrt_b_per_user     0.00159 | grad_wrt_c_per_item     0.00088\n",
      "epoch       5.000 | loss_total     0.94943 | train_MAE     0.77807 | valid_MAE     0.79275 | grad_wrt_mu     0.31959 | grad_wrt_b_per_user     0.00154 | grad_wrt_c_per_item     0.00089\n",
      "epoch       5.500 | loss_total     0.94280 | train_MAE     0.77327 | valid_MAE     0.78853 | grad_wrt_mu     0.31286 | grad_wrt_b_per_user     0.00147 | grad_wrt_c_per_item     0.00087\n",
      "epoch       6.000 | loss_total     0.93237 | train_MAE     0.77297 | valid_MAE     0.78921 | grad_wrt_mu     0.23360 | grad_wrt_b_per_user     0.00151 | grad_wrt_c_per_item     0.00085\n",
      "epoch       6.500 | loss_total     0.92587 | train_MAE     0.76478 | valid_MAE     0.78079 | grad_wrt_mu     0.23588 | grad_wrt_b_per_user     0.00139 | grad_wrt_c_per_item     0.00081\n",
      "epoch       7.000 | loss_total     0.91987 | train_MAE     0.76431 | valid_MAE     0.78132 | grad_wrt_mu     0.09036 | grad_wrt_b_per_user     0.00157 | grad_wrt_c_per_item     0.00082\n",
      "epoch       7.500 | loss_total     0.91671 | train_MAE     0.75907 | valid_MAE     0.77585 | grad_wrt_mu     0.20297 | grad_wrt_b_per_user     0.00150 | grad_wrt_c_per_item     0.00084\n",
      "epoch       8.000 | loss_total     0.90970 | train_MAE     0.75832 | valid_MAE     0.77610 | grad_wrt_mu     0.48638 | grad_wrt_b_per_user     0.00144 | grad_wrt_c_per_item     0.00086\n",
      "epoch       9.000 | loss_total     0.90186 | train_MAE     0.75048 | valid_MAE     0.76800 | grad_wrt_mu     0.20421 | grad_wrt_b_per_user     0.00166 | grad_wrt_c_per_item     0.00092\n",
      "epoch      10.000 | loss_total     0.89451 | train_MAE     0.74764 | valid_MAE     0.76587 | grad_wrt_mu     0.15122 | grad_wrt_b_per_user     0.00139 | grad_wrt_c_per_item     0.00080\n",
      "epoch      11.000 | loss_total     0.88922 | train_MAE     0.74971 | valid_MAE     0.76989 | grad_wrt_mu     0.09779 | grad_wrt_b_per_user     0.00151 | grad_wrt_c_per_item     0.00089\n",
      "epoch      12.000 | loss_total     0.88384 | train_MAE     0.74392 | valid_MAE     0.76398 | grad_wrt_mu     0.09939 | grad_wrt_b_per_user     0.00126 | grad_wrt_c_per_item     0.00076\n",
      "epoch      13.000 | loss_total     0.88019 | train_MAE     0.74255 | valid_MAE     0.76332 | grad_wrt_mu     0.10741 | grad_wrt_b_per_user     0.00174 | grad_wrt_c_per_item     0.00095\n",
      "epoch      14.000 | loss_total     0.87578 | train_MAE     0.74581 | valid_MAE     0.76802 | grad_wrt_mu     0.14381 | grad_wrt_b_per_user     0.00158 | grad_wrt_c_per_item     0.00089\n",
      "epoch      15.000 | loss_total     0.87265 | train_MAE     0.73713 | valid_MAE     0.75835 | grad_wrt_mu     0.15038 | grad_wrt_b_per_user     0.00145 | grad_wrt_c_per_item     0.00081\n",
      "epoch      16.000 | loss_total     0.86979 | train_MAE     0.74303 | valid_MAE     0.76626 | grad_wrt_mu     0.34256 | grad_wrt_b_per_user     0.00148 | grad_wrt_c_per_item     0.00072\n",
      "epoch      17.000 | loss_total     0.86752 | train_MAE     0.73478 | valid_MAE     0.75690 | grad_wrt_mu     0.10959 | grad_wrt_b_per_user     0.00156 | grad_wrt_c_per_item     0.00092\n",
      "epoch      18.000 | loss_total     0.86463 | train_MAE     0.73641 | valid_MAE     0.75954 | grad_wrt_mu     0.24854 | grad_wrt_b_per_user     0.00130 | grad_wrt_c_per_item     0.00075\n",
      "epoch      19.000 | loss_total     0.86258 | train_MAE     0.73351 | valid_MAE     0.75669 | grad_wrt_mu     0.08587 | grad_wrt_b_per_user     0.00144 | grad_wrt_c_per_item     0.00085\n",
      "epoch      20.000 | loss_total     0.86096 | train_MAE     0.73173 | valid_MAE     0.75497 | grad_wrt_mu     0.27721 | grad_wrt_b_per_user     0.00169 | grad_wrt_c_per_item     0.00095\n",
      "epoch      21.000 | loss_total     0.85841 | train_MAE     0.73314 | valid_MAE     0.75720 | grad_wrt_mu     0.13302 | grad_wrt_b_per_user     0.00117 | grad_wrt_c_per_item     0.00066\n"
     ]
    },
    {
     "name": "stdout",
     "output_type": "stream",
     "text": [
      "epoch      22.000 | loss_total     0.85788 | train_MAE     0.73568 | valid_MAE     0.76061 | grad_wrt_mu     0.17530 | grad_wrt_b_per_user     0.00157 | grad_wrt_c_per_item     0.00087\n",
      "epoch      23.000 | loss_total     0.85586 | train_MAE     0.73832 | valid_MAE     0.76388 | grad_wrt_mu     0.17886 | grad_wrt_b_per_user     0.00150 | grad_wrt_c_per_item     0.00084\n",
      "epoch      24.000 | loss_total     0.85442 | train_MAE     0.73322 | valid_MAE     0.75851 | grad_wrt_mu     0.15939 | grad_wrt_b_per_user     0.00149 | grad_wrt_c_per_item     0.00085\n",
      "epoch      25.000 | loss_total     0.85295 | train_MAE     0.73505 | valid_MAE     0.76097 | grad_wrt_mu     0.38471 | grad_wrt_b_per_user     0.00133 | grad_wrt_c_per_item     0.00077\n",
      "epoch      26.000 | loss_total     0.85237 | train_MAE     0.73002 | valid_MAE     0.75549 | grad_wrt_mu     0.31883 | grad_wrt_b_per_user     0.00152 | grad_wrt_c_per_item     0.00084\n",
      "epoch      27.000 | loss_total     0.85128 | train_MAE     0.72946 | valid_MAE     0.75509 | grad_wrt_mu     0.31504 | grad_wrt_b_per_user     0.00156 | grad_wrt_c_per_item     0.00092\n",
      "epoch      28.000 | loss_total     0.84942 | train_MAE     0.72838 | valid_MAE     0.75399 | grad_wrt_mu     0.45260 | grad_wrt_b_per_user     0.00142 | grad_wrt_c_per_item     0.00080\n",
      "epoch      29.000 | loss_total     0.84960 | train_MAE     0.73316 | valid_MAE     0.75979 | grad_wrt_mu     0.33779 | grad_wrt_b_per_user     0.00167 | grad_wrt_c_per_item     0.00097\n",
      "epoch      29.999 | loss_total     0.84806 | train_MAE     0.72656 | valid_MAE     0.75234 | grad_wrt_mu     0.04247 | grad_wrt_b_per_user     0.00150 | grad_wrt_c_per_item     0.00089\n"
     ]
    }
   ],
   "source": [
    "model_small = CollabFilterOneScalarPerItem.CollabFilterOneScalarPerItem(\n",
    "    n_epochs=30, batch_size=100, step_size=0.1)\n",
    "model_small.init_parameter_dict(n_users, n_items, train_tuple)\n",
    "model_small.fit(train_tuple, valid_tuple)"
   ]
  },
  {
   "cell_type": "code",
   "execution_count": 50,
   "metadata": {},
   "outputs": [
    {
     "data": {
      "text/plain": [
       "3.3721118502927627"
      ]
     },
     "execution_count": 50,
     "metadata": {},
     "output_type": "execute_result"
    }
   ],
   "source": [
    "float(model_small.param_dict['mu'])"
   ]
  },
  {
   "cell_type": "code",
   "execution_count": 51,
   "metadata": {},
   "outputs": [
    {
     "data": {
      "text/plain": [
       "0.752339348556643"
      ]
     },
     "execution_count": 51,
     "metadata": {},
     "output_type": "execute_result"
    }
   ],
   "source": [
    "ag_np.min(model_small.trace_mae_valid)"
   ]
  },
  {
   "cell_type": "code",
   "execution_count": 52,
   "metadata": {},
   "outputs": [
    {
     "data": {
      "text/plain": [
       "{'mse': 0.8939535787675869, 'mae': 0.7456006154038743}"
      ]
     },
     "execution_count": 52,
     "metadata": {},
     "output_type": "execute_result"
    }
   ],
   "source": [
    "model_small.evaluate_perf_metrics(*test_tuple)"
   ]
  },
  {
   "cell_type": "code",
   "execution_count": 53,
   "metadata": {},
   "outputs": [],
   "source": [
    "import matplotlib\n",
    "import matplotlib.pyplot as plt"
   ]
  },
  {
   "cell_type": "code",
   "execution_count": 56,
   "metadata": {},
   "outputs": [
    {
     "data": {
      "text/plain": [
       "(0.7, 1.0)"
      ]
     },
     "execution_count": 56,
     "metadata": {},
     "output_type": "execute_result"
    },
    {
     "data": {
      "image/png": "[encoded data removed]",
      "text/plain": [
       "<Figure size 1152x432 with 2 Axes>"
      ]
     },
     "metadata": {
      "needs_background": "light"
     },
     "output_type": "display_data"
    }
   ],
   "source": [
    "fig, ax_grid = plt.subplots(nrows=1, ncols=2, sharex=True, sharey=False,figsize=(16, 6))\n",
    "fig.tight_layout()\n",
    "cur_ax = ax_grid[0]\n",
    "plt.sca(cur_ax)\n",
    "cur_ax.set_title('10000 batch size')\n",
    "plt.plot(model_large.trace_epoch, model_large.trace_mae_train, '.r-',label = 'train')\n",
    "plt.plot(model_large.trace_epoch, model_large.trace_mae_valid, '.g-',label = 'valid')\n",
    "plt.ylabel('mae')\n",
    "plt.xlabel(\"epoch\")\n",
    "plt.legend(bbox_to_anchor=(0.5, 1))\n",
    "plt.ylim([0.7, 1.0])\n",
    "\n",
    "cur_ax = ax_grid[1]\n",
    "plt.sca(cur_ax)\n",
    "cur_ax.set_title('100 batch size')\n",
    "plt.plot(model_small.trace_epoch, model_small.trace_mae_train, '.r-',label = 'train')\n",
    "plt.plot(model_small.trace_epoch, model_small.trace_mae_valid, '.g-',label = 'valid')\n",
    "plt.ylabel('mae')\n",
    "plt.xlabel(\"epoch\")\n",
    "plt.legend(bbox_to_anchor=(0.5, 1))\n",
    "plt.ylim([0.7, 1.0])"
   ]
  },
  {
   "cell_type": "code",
   "execution_count": 59,
   "metadata": {},
   "outputs": [],
   "source": [
    "import pandas as pd\n",
    "import os"
   ]
  },
  {
   "cell_type": "code",
   "execution_count": 61,
   "metadata": {},
   "outputs": [],
   "source": [
    "data_path='data_movie_lens_100k/'\n",
    "select_movies = pd.read_csv(os.path.join(data_path, \"select_movies.csv\"))"
   ]
  },
  {
   "cell_type": "code",
   "execution_count": 103,
   "metadata": {},
   "outputs": [
    {
     "data": {
      "text/html": [
       "<div>\n",
       "<style scoped>\n",
       "    .dataframe tbody tr th:only-of-type {\n",
       "        vertical-align: middle;\n",
       "    }\n",
       "\n",
       "    .dataframe tbody tr th {\n",
       "        vertical-align: top;\n",
       "    }\n",
       "\n",
       "    .dataframe thead th {\n",
       "        text-align: right;\n",
       "    }\n",
       "</style>\n",
       "<table border=\"1\" class=\"dataframe\">\n",
       "  <thead>\n",
       "    <tr style=\"text-align: right;\">\n",
       "      <th></th>\n",
       "      <th>item_id</th>\n",
       "      <th>title</th>\n",
       "      <th>release_year</th>\n",
       "      <th>orig_item_id</th>\n",
       "    </tr>\n",
       "  </thead>\n",
       "  <tbody>\n",
       "    <tr>\n",
       "      <th>0</th>\n",
       "      <td>0</td>\n",
       "      <td>Toy Story (1995)</td>\n",
       "      <td>1995</td>\n",
       "      <td>1</td>\n",
       "    </tr>\n",
       "    <tr>\n",
       "      <th>1</th>\n",
       "      <td>70</td>\n",
       "      <td>Lion King, The (1994)</td>\n",
       "      <td>1994</td>\n",
       "      <td>71</td>\n",
       "    </tr>\n",
       "    <tr>\n",
       "      <th>2</th>\n",
       "      <td>98</td>\n",
       "      <td>Snow White and the Seven Dwarfs (1937)</td>\n",
       "      <td>1937</td>\n",
       "      <td>99</td>\n",
       "    </tr>\n",
       "    <tr>\n",
       "      <th>3</th>\n",
       "      <td>131</td>\n",
       "      <td>Wizard of Oz, The (1939)</td>\n",
       "      <td>1939</td>\n",
       "      <td>132</td>\n",
       "    </tr>\n",
       "    <tr>\n",
       "      <th>4</th>\n",
       "      <td>142</td>\n",
       "      <td>Sound of Music, The (1965)</td>\n",
       "      <td>1965</td>\n",
       "      <td>143</td>\n",
       "    </tr>\n",
       "    <tr>\n",
       "      <th>5</th>\n",
       "      <td>49</td>\n",
       "      <td>Star Wars (1977)</td>\n",
       "      <td>1977</td>\n",
       "      <td>50</td>\n",
       "    </tr>\n",
       "    <tr>\n",
       "      <th>6</th>\n",
       "      <td>171</td>\n",
       "      <td>Empire Strikes Back, The (1980)</td>\n",
       "      <td>1980</td>\n",
       "      <td>172</td>\n",
       "    </tr>\n",
       "    <tr>\n",
       "      <th>7</th>\n",
       "      <td>180</td>\n",
       "      <td>Return of the Jedi (1983)</td>\n",
       "      <td>1997</td>\n",
       "      <td>181</td>\n",
       "    </tr>\n",
       "    <tr>\n",
       "      <th>8</th>\n",
       "      <td>81</td>\n",
       "      <td>Jurassic Park (1993)</td>\n",
       "      <td>1993</td>\n",
       "      <td>82</td>\n",
       "    </tr>\n",
       "    <tr>\n",
       "      <th>9</th>\n",
       "      <td>251</td>\n",
       "      <td>Lost World: Jurassic Park, The (1997)</td>\n",
       "      <td>1997</td>\n",
       "      <td>252</td>\n",
       "    </tr>\n",
       "    <tr>\n",
       "      <th>10</th>\n",
       "      <td>173</td>\n",
       "      <td>Raiders of the Lost Ark (1981)</td>\n",
       "      <td>1981</td>\n",
       "      <td>174</td>\n",
       "    </tr>\n",
       "    <tr>\n",
       "      <th>11</th>\n",
       "      <td>209</td>\n",
       "      <td>Indiana Jones and the Last Crusade (1989)</td>\n",
       "      <td>1989</td>\n",
       "      <td>210</td>\n",
       "    </tr>\n",
       "    <tr>\n",
       "      <th>12</th>\n",
       "      <td>65</td>\n",
       "      <td>While You Were Sleeping (1995)</td>\n",
       "      <td>1995</td>\n",
       "      <td>66</td>\n",
       "    </tr>\n",
       "    <tr>\n",
       "      <th>13</th>\n",
       "      <td>87</td>\n",
       "      <td>Sleepless in Seattle (1993)</td>\n",
       "      <td>1993</td>\n",
       "      <td>88</td>\n",
       "    </tr>\n",
       "    <tr>\n",
       "      <th>14</th>\n",
       "      <td>254</td>\n",
       "      <td>My Best Friend's Wedding (1997)</td>\n",
       "      <td>1997</td>\n",
       "      <td>255</td>\n",
       "    </tr>\n",
       "    <tr>\n",
       "      <th>15</th>\n",
       "      <td>90</td>\n",
       "      <td>Nightmare Before Christmas, The (1993)</td>\n",
       "      <td>1993</td>\n",
       "      <td>91</td>\n",
       "    </tr>\n",
       "    <tr>\n",
       "      <th>16</th>\n",
       "      <td>199</td>\n",
       "      <td>Shining, The (1980)</td>\n",
       "      <td>1980</td>\n",
       "      <td>200</td>\n",
       "    </tr>\n",
       "    <tr>\n",
       "      <th>17</th>\n",
       "      <td>218</td>\n",
       "      <td>Nightmare on Elm Street, A (1984)</td>\n",
       "      <td>1984</td>\n",
       "      <td>219</td>\n",
       "    </tr>\n",
       "    <tr>\n",
       "      <th>18</th>\n",
       "      <td>286</td>\n",
       "      <td>Scream (1996)</td>\n",
       "      <td>1996</td>\n",
       "      <td>288</td>\n",
       "    </tr>\n",
       "    <tr>\n",
       "      <th>19</th>\n",
       "      <td>893</td>\n",
       "      <td>Scream 2 (1997)</td>\n",
       "      <td>1997</td>\n",
       "      <td>895</td>\n",
       "    </tr>\n",
       "  </tbody>\n",
       "</table>\n",
       "</div>"
      ],
      "text/plain": [
       "    item_id                                      title  release_year  \\\n",
       "0         0                           Toy Story (1995)          1995   \n",
       "1        70                      Lion King, The (1994)          1994   \n",
       "2        98     Snow White and the Seven Dwarfs (1937)          1937   \n",
       "3       131                   Wizard of Oz, The (1939)          1939   \n",
       "4       142                 Sound of Music, The (1965)          1965   \n",
       "5        49                           Star Wars (1977)          1977   \n",
       "6       171            Empire Strikes Back, The (1980)          1980   \n",
       "7       180                  Return of the Jedi (1983)          1997   \n",
       "8        81                       Jurassic Park (1993)          1993   \n",
       "9       251      Lost World: Jurassic Park, The (1997)          1997   \n",
       "10      173             Raiders of the Lost Ark (1981)          1981   \n",
       "11      209  Indiana Jones and the Last Crusade (1989)          1989   \n",
       "12       65             While You Were Sleeping (1995)          1995   \n",
       "13       87                Sleepless in Seattle (1993)          1993   \n",
       "14      254            My Best Friend's Wedding (1997)          1997   \n",
       "15       90     Nightmare Before Christmas, The (1993)          1993   \n",
       "16      199                        Shining, The (1980)          1980   \n",
       "17      218          Nightmare on Elm Street, A (1984)          1984   \n",
       "18      286                              Scream (1996)          1996   \n",
       "19      893                            Scream 2 (1997)          1997   \n",
       "\n",
       "    orig_item_id  \n",
       "0              1  \n",
       "1             71  \n",
       "2             99  \n",
       "3            132  \n",
       "4            143  \n",
       "5             50  \n",
       "6            172  \n",
       "7            181  \n",
       "8             82  \n",
       "9            252  \n",
       "10           174  \n",
       "11           210  \n",
       "12            66  \n",
       "13            88  \n",
       "14           255  \n",
       "15            91  \n",
       "16           200  \n",
       "17           219  \n",
       "18           288  \n",
       "19           895  "
      ]
     },
     "execution_count": 103,
     "metadata": {},
     "output_type": "execute_result"
    }
   ],
   "source": [
    "select_movies"
   ]
  },
  {
   "cell_type": "code",
   "execution_count": 82,
   "metadata": {},
   "outputs": [],
   "source": [
    "ids = select_movies['item_id']\n",
    "bias = model_small.param_dict['c_per_item']"
   ]
  },
  {
   "cell_type": "code",
   "execution_count": 118,
   "metadata": {},
   "outputs": [],
   "source": [
    "pair_list = []\n",
    "for mid in ids:\n",
    "    movie_name = select_movies[select_movies.item_id == mid]['title'].values[0]\n",
    "    rating_bias = bias[mid]\n",
    "    pair_list.append([movie_name,rating_bias])"
   ]
  },
  {
   "cell_type": "code",
   "execution_count": 119,
   "metadata": {},
   "outputs": [
    {
     "data": {
      "text/html": [
       "<div>\n",
       "<style scoped>\n",
       "    .dataframe tbody tr th:only-of-type {\n",
       "        vertical-align: middle;\n",
       "    }\n",
       "\n",
       "    .dataframe tbody tr th {\n",
       "        vertical-align: top;\n",
       "    }\n",
       "\n",
       "    .dataframe thead th {\n",
       "        text-align: right;\n",
       "    }\n",
       "</style>\n",
       "<table border=\"1\" class=\"dataframe\">\n",
       "  <thead>\n",
       "    <tr style=\"text-align: right;\">\n",
       "      <th></th>\n",
       "      <th>title</th>\n",
       "      <th>adjustment</th>\n",
       "    </tr>\n",
       "  </thead>\n",
       "  <tbody>\n",
       "    <tr>\n",
       "      <th>0</th>\n",
       "      <td>Toy Story (1995)</td>\n",
       "      <td>0.509517</td>\n",
       "    </tr>\n",
       "    <tr>\n",
       "      <th>1</th>\n",
       "      <td>Lion King, The (1994)</td>\n",
       "      <td>0.384573</td>\n",
       "    </tr>\n",
       "    <tr>\n",
       "      <th>2</th>\n",
       "      <td>Snow White and the Seven Dwarfs (1937)</td>\n",
       "      <td>0.351903</td>\n",
       "    </tr>\n",
       "    <tr>\n",
       "      <th>3</th>\n",
       "      <td>Wizard of Oz, The (1939)</td>\n",
       "      <td>0.694477</td>\n",
       "    </tr>\n",
       "    <tr>\n",
       "      <th>4</th>\n",
       "      <td>Sound of Music, The (1965)</td>\n",
       "      <td>0.358339</td>\n",
       "    </tr>\n",
       "    <tr>\n",
       "      <th>5</th>\n",
       "      <td>Star Wars (1977)</td>\n",
       "      <td>1.002044</td>\n",
       "    </tr>\n",
       "    <tr>\n",
       "      <th>6</th>\n",
       "      <td>Empire Strikes Back, The (1980)</td>\n",
       "      <td>0.823100</td>\n",
       "    </tr>\n",
       "    <tr>\n",
       "      <th>7</th>\n",
       "      <td>Return of the Jedi (1983)</td>\n",
       "      <td>0.679109</td>\n",
       "    </tr>\n",
       "    <tr>\n",
       "      <th>8</th>\n",
       "      <td>Jurassic Park (1993)</td>\n",
       "      <td>0.309447</td>\n",
       "    </tr>\n",
       "    <tr>\n",
       "      <th>9</th>\n",
       "      <td>Lost World: Jurassic Park, The (1997)</td>\n",
       "      <td>-0.447043</td>\n",
       "    </tr>\n",
       "    <tr>\n",
       "      <th>10</th>\n",
       "      <td>Raiders of the Lost Ark (1981)</td>\n",
       "      <td>0.960315</td>\n",
       "    </tr>\n",
       "    <tr>\n",
       "      <th>11</th>\n",
       "      <td>Indiana Jones and the Last Crusade (1989)</td>\n",
       "      <td>0.586573</td>\n",
       "    </tr>\n",
       "    <tr>\n",
       "      <th>12</th>\n",
       "      <td>While You Were Sleeping (1995)</td>\n",
       "      <td>0.169043</td>\n",
       "    </tr>\n",
       "    <tr>\n",
       "      <th>13</th>\n",
       "      <td>Sleepless in Seattle (1993)</td>\n",
       "      <td>0.144257</td>\n",
       "    </tr>\n",
       "    <tr>\n",
       "      <th>14</th>\n",
       "      <td>My Best Friend's Wedding (1997)</td>\n",
       "      <td>-0.033909</td>\n",
       "    </tr>\n",
       "    <tr>\n",
       "      <th>15</th>\n",
       "      <td>Nightmare Before Christmas, The (1993)</td>\n",
       "      <td>0.243246</td>\n",
       "    </tr>\n",
       "    <tr>\n",
       "      <th>16</th>\n",
       "      <td>Shining, The (1980)</td>\n",
       "      <td>0.394687</td>\n",
       "    </tr>\n",
       "    <tr>\n",
       "      <th>17</th>\n",
       "      <td>Nightmare on Elm Street, A (1984)</td>\n",
       "      <td>-0.090654</td>\n",
       "    </tr>\n",
       "    <tr>\n",
       "      <th>18</th>\n",
       "      <td>Scream (1996)</td>\n",
       "      <td>0.048227</td>\n",
       "    </tr>\n",
       "    <tr>\n",
       "      <th>19</th>\n",
       "      <td>Scream 2 (1997)</td>\n",
       "      <td>-0.280708</td>\n",
       "    </tr>\n",
       "  </tbody>\n",
       "</table>\n",
       "</div>"
      ],
      "text/plain": [
       "                                        title  adjustment\n",
       "0                            Toy Story (1995)    0.509517\n",
       "1                       Lion King, The (1994)    0.384573\n",
       "2      Snow White and the Seven Dwarfs (1937)    0.351903\n",
       "3                    Wizard of Oz, The (1939)    0.694477\n",
       "4                  Sound of Music, The (1965)    0.358339\n",
       "5                            Star Wars (1977)    1.002044\n",
       "6             Empire Strikes Back, The (1980)    0.823100\n",
       "7                   Return of the Jedi (1983)    0.679109\n",
       "8                        Jurassic Park (1993)    0.309447\n",
       "9       Lost World: Jurassic Park, The (1997)   -0.447043\n",
       "10             Raiders of the Lost Ark (1981)    0.960315\n",
       "11  Indiana Jones and the Last Crusade (1989)    0.586573\n",
       "12             While You Were Sleeping (1995)    0.169043\n",
       "13                Sleepless in Seattle (1993)    0.144257\n",
       "14            My Best Friend's Wedding (1997)   -0.033909\n",
       "15     Nightmare Before Christmas, The (1993)    0.243246\n",
       "16                        Shining, The (1980)    0.394687\n",
       "17          Nightmare on Elm Street, A (1984)   -0.090654\n",
       "18                              Scream (1996)    0.048227\n",
       "19                            Scream 2 (1997)   -0.280708"
      ]
     },
     "execution_count": 119,
     "metadata": {},
     "output_type": "execute_result"
    }
   ],
   "source": [
    "pd.DataFrame(pair_list,columns=['title','adjustment'])"
   ]
  },
  {
   "cell_type": "code",
   "execution_count": 121,
   "metadata": {},
   "outputs": [],
   "source": [
    "import pandas as pd\n",
    "import numpy as np"
   ]
  },
  {
   "cell_type": "code",
   "execution_count": 122,
   "metadata": {},
   "outputs": [],
   "source": [
    "\n",
    "leader_set = pd.read_csv('data_movie_lens_100k/ratings_masked_leaderboard_set.csv')\n",
    "\n",
    "leader_set\n",
    "\n",
    "predict_tuple = (\n",
    "        leader_set['user_id'].values,\n",
    "        leader_set['item_id'].values,)\n",
    "\n",
    "predict_tuple\n",
    "\n",
    "leader_result = model_small.predict(predict_tuple[0],predict_tuple[1],**model_small.param_dict)\n",
    "\n",
    "np.savetxt('predicted_ratings_leaderboard.txt', leader_result, delimiter='\\n')"
   ]
  },
  {
   "cell_type": "code",
   "execution_count": null,
   "metadata": {},
   "outputs": [],
   "source": []
  },
  {
   "cell_type": "code",
   "execution_count": null,
   "metadata": {},
   "outputs": [],
   "source": []
  }
 ],
 "metadata": {
  "kernelspec": {
   "display_name": "Python 3",
   "language": "python",
   "name": "python3"
  },
  "language_info": {
   "codemirror_mode": {
    "name": "ipython",
    "version": 3
   },
   "file_extension": ".py",
   "mimetype": "text/x-python",
   "name": "python",
   "nbconvert_exporter": "python",
   "pygments_lexer": "ipython3",
   "version": "3.8.5"
  }
 },
 "nbformat": 4,
 "nbformat_minor": 4
}
