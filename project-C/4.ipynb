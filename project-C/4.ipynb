{
 "cells": [
  {
   "cell_type": "code",
   "execution_count": 1,
   "metadata": {},
   "outputs": [],
   "source": [
    "import autograd\n",
    "import autograd.numpy as ag_np\n",
    "import IncludeGender\n",
    "from train_valid_test_loader import load_train_valid_test_datasets"
   ]
  },
  {
   "cell_type": "code",
   "execution_count": 2,
   "metadata": {},
   "outputs": [],
   "source": [
    "train_tuple, valid_tuple, test_tuple, n_users, n_items = load_train_valid_test_datasets()"
   ]
  },
  {
   "cell_type": "code",
   "execution_count": 3,
   "metadata": {},
   "outputs": [
    {
     "name": "stdout",
     "output_type": "stream",
     "text": [
      "epoch       0.000 | loss_total    29.10906 | train_MAE     2.70086 | valid_MAE     2.65804 | grad_wrt_b_per_user     0.00095 | grad_wrt_c_per_item     0.00058 | grad_wrt_gender_item     0.00029 | grad_wrt_age_item     0.00012 | grad_wrt_U     0.00230 | grad_wrt_V     0.00201\n",
      "epoch       0.001 | loss_total    29.24363 | train_MAE     2.69495 | valid_MAE     2.65228 | grad_wrt_b_per_user     0.00100 | grad_wrt_c_per_item     0.00054 | grad_wrt_gender_item     0.00027 | grad_wrt_age_item     0.00011 | grad_wrt_U     0.00235 | grad_wrt_V     0.00200\n",
      "epoch       0.003 | loss_total    28.89623 | train_MAE     2.68912 | valid_MAE     2.64676 | grad_wrt_b_per_user     0.00093 | grad_wrt_c_per_item     0.00052 | grad_wrt_gender_item     0.00026 | grad_wrt_age_item     0.00011 | grad_wrt_U     0.00231 | grad_wrt_V     0.00198\n",
      "epoch       0.004 | loss_total    28.77070 | train_MAE     2.68334 | valid_MAE     2.64130 | grad_wrt_b_per_user     0.00095 | grad_wrt_c_per_item     0.00052 | grad_wrt_gender_item     0.00027 | grad_wrt_age_item     0.00011 | grad_wrt_U     0.00229 | grad_wrt_V     0.00198\n",
      "epoch       0.126 | loss_total    24.03547 | train_MAE     2.24243 | valid_MAE     2.22294 | grad_wrt_b_per_user     0.00098 | grad_wrt_c_per_item     0.00058 | grad_wrt_gender_item     0.00029 | grad_wrt_age_item     0.00012 | grad_wrt_U     0.00209 | grad_wrt_V     0.00181\n",
      "epoch       0.250 | loss_total    20.08026 | train_MAE     1.88741 | valid_MAE     1.88499 | grad_wrt_b_per_user     0.00098 | grad_wrt_c_per_item     0.00057 | grad_wrt_gender_item     0.00029 | grad_wrt_age_item     0.00012 | grad_wrt_U     0.00189 | grad_wrt_V     0.00163\n",
      "epoch       0.376 | loss_total    16.65570 | train_MAE     1.60974 | valid_MAE     1.61925 | grad_wrt_b_per_user     0.00100 | grad_wrt_c_per_item     0.00057 | grad_wrt_gender_item     0.00029 | grad_wrt_age_item     0.00011 | grad_wrt_U     0.00170 | grad_wrt_V     0.00150\n",
      "epoch       0.500 | loss_total    13.92194 | train_MAE     1.39623 | valid_MAE     1.41361 | grad_wrt_b_per_user     0.00102 | grad_wrt_c_per_item     0.00057 | grad_wrt_gender_item     0.00029 | grad_wrt_age_item     0.00011 | grad_wrt_U     0.00157 | grad_wrt_V     0.00136\n",
      "epoch       0.626 | loss_total    11.57701 | train_MAE     1.23273 | valid_MAE     1.25461 | grad_wrt_b_per_user     0.00100 | grad_wrt_c_per_item     0.00052 | grad_wrt_gender_item     0.00027 | grad_wrt_age_item     0.00011 | grad_wrt_U     0.00138 | grad_wrt_V     0.00122\n",
      "epoch       0.750 | loss_total     9.72085 | train_MAE     1.10980 | valid_MAE     1.13358 | grad_wrt_b_per_user     0.00089 | grad_wrt_c_per_item     0.00055 | grad_wrt_gender_item     0.00028 | grad_wrt_age_item     0.00011 | grad_wrt_U     0.00129 | grad_wrt_V     0.00112\n",
      "epoch       0.876 | loss_total     8.14192 | train_MAE     1.01716 | valid_MAE     1.04202 | grad_wrt_b_per_user     0.00098 | grad_wrt_c_per_item     0.00051 | grad_wrt_gender_item     0.00027 | grad_wrt_age_item     0.00011 | grad_wrt_U     0.00116 | grad_wrt_V     0.00102\n",
      "epoch       1.000 | loss_total     6.87985 | train_MAE     0.94834 | valid_MAE     0.97456 | grad_wrt_b_per_user     0.00095 | grad_wrt_c_per_item     0.00056 | grad_wrt_gender_item     0.00029 | grad_wrt_age_item     0.00011 | grad_wrt_U     0.00105 | grad_wrt_V     0.00092\n",
      "epoch       1.126 | loss_total     6.03793 | train_MAE     0.89798 | valid_MAE     0.92418 | grad_wrt_b_per_user     0.00095 | grad_wrt_c_per_item     0.00055 | grad_wrt_gender_item     0.00029 | grad_wrt_age_item     0.00012 | grad_wrt_U     0.00096 | grad_wrt_V     0.00086\n",
      "epoch       1.250 | loss_total     5.02183 | train_MAE     0.86015 | valid_MAE     0.88724 | grad_wrt_b_per_user     0.00100 | grad_wrt_c_per_item     0.00057 | grad_wrt_gender_item     0.00029 | grad_wrt_age_item     0.00011 | grad_wrt_U     0.00086 | grad_wrt_V     0.00078\n",
      "epoch       1.376 | loss_total     4.30290 | train_MAE     0.83140 | valid_MAE     0.85869 | grad_wrt_b_per_user     0.00102 | grad_wrt_c_per_item     0.00052 | grad_wrt_gender_item     0.00027 | grad_wrt_age_item     0.00011 | grad_wrt_U     0.00082 | grad_wrt_V     0.00070\n",
      "epoch       1.500 | loss_total     3.62723 | train_MAE     0.81037 | valid_MAE     0.83785 | grad_wrt_b_per_user     0.00095 | grad_wrt_c_per_item     0.00055 | grad_wrt_gender_item     0.00028 | grad_wrt_age_item     0.00011 | grad_wrt_U     0.00073 | grad_wrt_V     0.00064\n",
      "epoch       1.626 | loss_total     3.31142 | train_MAE     0.79316 | valid_MAE     0.82142 | grad_wrt_b_per_user     0.00093 | grad_wrt_c_per_item     0.00055 | grad_wrt_gender_item     0.00029 | grad_wrt_age_item     0.00012 | grad_wrt_U     0.00066 | grad_wrt_V     0.00059\n",
      "epoch       1.750 | loss_total     2.78321 | train_MAE     0.78039 | valid_MAE     0.80925 | grad_wrt_b_per_user     0.00100 | grad_wrt_c_per_item     0.00054 | grad_wrt_gender_item     0.00028 | grad_wrt_age_item     0.00011 | grad_wrt_U     0.00061 | grad_wrt_V     0.00055\n",
      "epoch       1.876 | loss_total     2.49028 | train_MAE     0.77018 | valid_MAE     0.79909 | grad_wrt_b_per_user     0.00100 | grad_wrt_c_per_item     0.00056 | grad_wrt_gender_item     0.00029 | grad_wrt_age_item     0.00012 | grad_wrt_U     0.00055 | grad_wrt_V     0.00049\n",
      "epoch       2.000 | loss_total     2.11549 | train_MAE     0.76186 | valid_MAE     0.79101 | grad_wrt_b_per_user     0.00104 | grad_wrt_c_per_item     0.00056 | grad_wrt_gender_item     0.00029 | grad_wrt_age_item     0.00012 | grad_wrt_U     0.00051 | grad_wrt_V     0.00045\n",
      "epoch       2.500 | loss_total     2.32053 | train_MAE     0.74371 | valid_MAE     0.77389 | grad_wrt_b_per_user     0.00091 | grad_wrt_c_per_item     0.00057 | grad_wrt_gender_item     0.00030 | grad_wrt_age_item     0.00012 | grad_wrt_U     0.00036 | grad_wrt_V     0.00032\n",
      "epoch       3.000 | loss_total     1.51890 | train_MAE     0.73284 | valid_MAE     0.76513 | grad_wrt_b_per_user     0.00102 | grad_wrt_c_per_item     0.00055 | grad_wrt_gender_item     0.00029 | grad_wrt_age_item     0.00012 | grad_wrt_U     0.00025 | grad_wrt_V     0.00023\n",
      "epoch       3.500 | loss_total     1.12471 | train_MAE     0.72697 | valid_MAE     0.76006 | grad_wrt_b_per_user     0.00093 | grad_wrt_c_per_item     0.00056 | grad_wrt_gender_item     0.00029 | grad_wrt_age_item     0.00011 | grad_wrt_U     0.00018 | grad_wrt_V     0.00016\n",
      "epoch       4.000 | loss_total     0.92355 | train_MAE     0.72136 | valid_MAE     0.75754 | grad_wrt_b_per_user     0.00095 | grad_wrt_c_per_item     0.00055 | grad_wrt_gender_item     0.00029 | grad_wrt_age_item     0.00011 | grad_wrt_U     0.00012 | grad_wrt_V     0.00011\n",
      "epoch       4.500 | loss_total     0.82442 | train_MAE     0.71785 | valid_MAE     0.75639 | grad_wrt_b_per_user     0.00104 | grad_wrt_c_per_item     0.00056 | grad_wrt_gender_item     0.00029 | grad_wrt_age_item     0.00011 | grad_wrt_U     0.00009 | grad_wrt_V     0.00008\n",
      "epoch       5.000 | loss_total     0.77256 | train_MAE     0.71386 | valid_MAE     0.75303 | grad_wrt_b_per_user     0.00095 | grad_wrt_c_per_item     0.00054 | grad_wrt_gender_item     0.00028 | grad_wrt_age_item     0.00011 | grad_wrt_U     0.00006 | grad_wrt_V     0.00006\n",
      "epoch       5.500 | loss_total     0.74510 | train_MAE     0.71193 | valid_MAE     0.75277 | grad_wrt_b_per_user     0.00098 | grad_wrt_c_per_item     0.00057 | grad_wrt_gender_item     0.00029 | grad_wrt_age_item     0.00011 | grad_wrt_U     0.00005 | grad_wrt_V     0.00004\n",
      "epoch       6.000 | loss_total     0.73029 | train_MAE     0.70857 | valid_MAE     0.75068 | grad_wrt_b_per_user     0.00098 | grad_wrt_c_per_item     0.00058 | grad_wrt_gender_item     0.00029 | grad_wrt_age_item     0.00012 | grad_wrt_U     0.00003 | grad_wrt_V     0.00003\n",
      "epoch       6.500 | loss_total     0.72294 | train_MAE     0.70702 | valid_MAE     0.75084 | grad_wrt_b_per_user     0.00098 | grad_wrt_c_per_item     0.00050 | grad_wrt_gender_item     0.00026 | grad_wrt_age_item     0.00012 | grad_wrt_U     0.00002 | grad_wrt_V     0.00002\n",
      "epoch       7.000 | loss_total     0.71679 | train_MAE     0.70415 | valid_MAE     0.74968 | grad_wrt_b_per_user     0.00093 | grad_wrt_c_per_item     0.00052 | grad_wrt_gender_item     0.00029 | grad_wrt_age_item     0.00011 | grad_wrt_U     0.00002 | grad_wrt_V     0.00001\n"
     ]
    },
    {
     "name": "stdout",
     "output_type": "stream",
     "text": [
      "epoch       7.500 | loss_total     0.71164 | train_MAE     0.70310 | valid_MAE     0.74898 | grad_wrt_b_per_user     0.00093 | grad_wrt_c_per_item     0.00055 | grad_wrt_gender_item     0.00028 | grad_wrt_age_item     0.00012 | grad_wrt_U     0.00001 | grad_wrt_V     0.00001\n",
      "epoch       8.000 | loss_total     0.71045 | train_MAE     0.70061 | valid_MAE     0.74837 | grad_wrt_b_per_user     0.00093 | grad_wrt_c_per_item     0.00055 | grad_wrt_gender_item     0.00027 | grad_wrt_age_item     0.00011 | grad_wrt_U     0.00001 | grad_wrt_V     0.00001\n",
      "epoch       9.000 | loss_total     0.70671 | train_MAE     0.69768 | valid_MAE     0.74826 | grad_wrt_b_per_user     0.00089 | grad_wrt_c_per_item     0.00056 | grad_wrt_gender_item     0.00028 | grad_wrt_age_item     0.00011 | grad_wrt_U     0.00000 | grad_wrt_V     0.00000\n",
      "epoch       9.999 | loss_total     0.70400 | train_MAE     0.69508 | valid_MAE     0.74810 | grad_wrt_b_per_user     0.00093 | grad_wrt_c_per_item     0.00058 | grad_wrt_gender_item     0.00030 | grad_wrt_age_item     0.00012 | grad_wrt_U     0.00000 | grad_wrt_V     0.00000\n"
     ]
    }
   ],
   "source": [
    "model_b = IncludeGender.IncludeGenderAge(\n",
    "    n_epochs=10, batch_size=100, step_size=0.5,n_factors=10, alpha=0.1)\n",
    "model_b.init_parameter_dict(n_users, n_items, train_tuple)\n",
    "model_b.fit(train_tuple, valid_tuple)"
   ]
  },
  {
   "cell_type": "code",
   "execution_count": 13,
   "metadata": {},
   "outputs": [],
   "source": [
    "import matplotlib\n",
    "import matplotlib.pyplot as plt\n",
    "%matplotlib inline\n",
    "plt.style.use('seaborn')"
   ]
  },
  {
   "cell_type": "markdown",
   "metadata": {},
   "source": [
    "| Model       | valid MAE    set  |test  set MAE   |\n",
    "| ----------- | ----------- |------------|\n",
    "| M4       | 0.746      |0.742|"
   ]
  },
  {
   "cell_type": "code",
   "execution_count": 14,
   "metadata": {},
   "outputs": [
    {
     "data": {
      "text/plain": [
       "(0.7, 1.0)"
      ]
     },
     "execution_count": 14,
     "metadata": {},
     "output_type": "execute_result"
    },
    {
     "data": {
      "image/png": "[encoded data removed]",
      "text/plain": [
       "<Figure size 576x396 with 1 Axes>"
      ]
     },
     "metadata": {},
     "output_type": "display_data"
    }
   ],
   "source": [
    "plt.title('Problem 4')\n",
    "plt.plot(model_b.trace_epoch, model_b.trace_mae_train, '.r-',label = 'train')\n",
    "plt.plot(model_b.trace_epoch, model_b.trace_mae_valid, '.g-',label = 'valid')\n",
    "plt.ylabel('mae')\n",
    "plt.xlabel(\"epoch\")\n",
    "plt.legend(bbox_to_anchor=(0.5, 1))\n",
    "plt.ylim([0.7, 1.0])"
   ]
  },
  {
   "cell_type": "code",
   "execution_count": 24,
   "metadata": {},
   "outputs": [
    {
     "name": "stdout",
     "output_type": "stream",
     "text": [
      "epoch       0.000 | loss_total   133.40143 | train_MAE     1.56682 | valid_MAE     1.55057 | grad_wrt_b_per_user     0.00305 | grad_wrt_c_per_item     0.00186 | grad_wrt_gender_item     0.00093 | grad_wrt_age_item     0.00037 | grad_wrt_U     0.01267 | grad_wrt_V     0.01196\n",
      "epoch       0.001 | loss_total   132.20250 | train_MAE     1.55367 | valid_MAE     1.53772 | grad_wrt_b_per_user     0.00327 | grad_wrt_c_per_item     0.00170 | grad_wrt_gender_item     0.00086 | grad_wrt_age_item     0.00037 | grad_wrt_U     0.01282 | grad_wrt_V     0.01187\n",
      "epoch       0.003 | loss_total   130.23047 | train_MAE     1.54064 | valid_MAE     1.52495 | grad_wrt_b_per_user     0.00319 | grad_wrt_c_per_item     0.00177 | grad_wrt_gender_item     0.00088 | grad_wrt_age_item     0.00037 | grad_wrt_U     0.01261 | grad_wrt_V     0.01176\n",
      "epoch       0.004 | loss_total   128.19597 | train_MAE     1.52775 | valid_MAE     1.51242 | grad_wrt_b_per_user     0.00314 | grad_wrt_c_per_item     0.00177 | grad_wrt_gender_item     0.00090 | grad_wrt_age_item     0.00036 | grad_wrt_U     0.01240 | grad_wrt_V     0.01167\n",
      "epoch       0.126 | loss_total    45.45409 | train_MAE     0.98507 | valid_MAE     0.98549 | grad_wrt_b_per_user     0.00204 | grad_wrt_c_per_item     0.00112 | grad_wrt_gender_item     0.00056 | grad_wrt_age_item     0.00023 | grad_wrt_U     0.00693 | grad_wrt_V     0.00672\n",
      "epoch       0.250 | loss_total    16.49097 | train_MAE     0.86598 | valid_MAE     0.87191 | grad_wrt_b_per_user     0.00167 | grad_wrt_c_per_item     0.00098 | grad_wrt_gender_item     0.00049 | grad_wrt_age_item     0.00020 | grad_wrt_U     0.00405 | grad_wrt_V     0.00394\n",
      "epoch       0.376 | loss_total     6.40449 | train_MAE     0.83279 | valid_MAE     0.84155 | grad_wrt_b_per_user     0.00165 | grad_wrt_c_per_item     0.00094 | grad_wrt_gender_item     0.00049 | grad_wrt_age_item     0.00019 | grad_wrt_U     0.00236 | grad_wrt_V     0.00231\n",
      "epoch       0.500 | loss_total     3.08673 | train_MAE     0.81673 | valid_MAE     0.82706 | grad_wrt_b_per_user     0.00184 | grad_wrt_c_per_item     0.00101 | grad_wrt_gender_item     0.00051 | grad_wrt_age_item     0.00020 | grad_wrt_U     0.00140 | grad_wrt_V     0.00137\n",
      "epoch       0.626 | loss_total     1.60071 | train_MAE     0.80443 | valid_MAE     0.81594 | grad_wrt_b_per_user     0.00163 | grad_wrt_c_per_item     0.00083 | grad_wrt_gender_item     0.00044 | grad_wrt_age_item     0.00018 | grad_wrt_U     0.00082 | grad_wrt_V     0.00080\n",
      "epoch       0.750 | loss_total     1.51362 | train_MAE     0.79504 | valid_MAE     0.80767 | grad_wrt_b_per_user     0.00181 | grad_wrt_c_per_item     0.00102 | grad_wrt_gender_item     0.00052 | grad_wrt_age_item     0.00021 | grad_wrt_U     0.00049 | grad_wrt_V     0.00048\n",
      "epoch       0.876 | loss_total     1.15508 | train_MAE     0.78663 | valid_MAE     0.80072 | grad_wrt_b_per_user     0.00182 | grad_wrt_c_per_item     0.00091 | grad_wrt_gender_item     0.00048 | grad_wrt_age_item     0.00020 | grad_wrt_U     0.00029 | grad_wrt_V     0.00028\n",
      "epoch       1.000 | loss_total     0.93127 | train_MAE     0.78023 | valid_MAE     0.79532 | grad_wrt_b_per_user     0.00158 | grad_wrt_c_per_item     0.00085 | grad_wrt_gender_item     0.00044 | grad_wrt_age_item     0.00018 | grad_wrt_U     0.00017 | grad_wrt_V     0.00017\n",
      "epoch       1.126 | loss_total     1.12114 | train_MAE     0.77529 | valid_MAE     0.79171 | grad_wrt_b_per_user     0.00171 | grad_wrt_c_per_item     0.00097 | grad_wrt_gender_item     0.00049 | grad_wrt_age_item     0.00021 | grad_wrt_U     0.00010 | grad_wrt_V     0.00010\n",
      "epoch       1.250 | loss_total     1.05720 | train_MAE     0.77020 | valid_MAE     0.78676 | grad_wrt_b_per_user     0.00162 | grad_wrt_c_per_item     0.00095 | grad_wrt_gender_item     0.00047 | grad_wrt_age_item     0.00019 | grad_wrt_U     0.00006 | grad_wrt_V     0.00006\n",
      "epoch       1.376 | loss_total     0.93242 | train_MAE     0.76602 | valid_MAE     0.78344 | grad_wrt_b_per_user     0.00162 | grad_wrt_c_per_item     0.00087 | grad_wrt_gender_item     0.00043 | grad_wrt_age_item     0.00018 | grad_wrt_U     0.00003 | grad_wrt_V     0.00003\n",
      "epoch       1.500 | loss_total     0.79306 | train_MAE     0.76180 | valid_MAE     0.78023 | grad_wrt_b_per_user     0.00144 | grad_wrt_c_per_item     0.00081 | grad_wrt_gender_item     0.00041 | grad_wrt_age_item     0.00016 | grad_wrt_U     0.00002 | grad_wrt_V     0.00002\n",
      "epoch       1.626 | loss_total     0.99038 | train_MAE     0.75812 | valid_MAE     0.77800 | grad_wrt_b_per_user     0.00163 | grad_wrt_c_per_item     0.00088 | grad_wrt_gender_item     0.00045 | grad_wrt_age_item     0.00019 | grad_wrt_U     0.00001 | grad_wrt_V     0.00001\n",
      "epoch       1.750 | loss_total     0.86818 | train_MAE     0.75502 | valid_MAE     0.77631 | grad_wrt_b_per_user     0.00149 | grad_wrt_c_per_item     0.00083 | grad_wrt_gender_item     0.00042 | grad_wrt_age_item     0.00017 | grad_wrt_U     0.00001 | grad_wrt_V     0.00001\n",
      "epoch       1.876 | loss_total     0.93005 | train_MAE     0.75206 | valid_MAE     0.77388 | grad_wrt_b_per_user     0.00166 | grad_wrt_c_per_item     0.00090 | grad_wrt_gender_item     0.00045 | grad_wrt_age_item     0.00019 | grad_wrt_U     0.00000 | grad_wrt_V     0.00000\n",
      "epoch       2.000 | loss_total     0.76579 | train_MAE     0.74901 | valid_MAE     0.77144 | grad_wrt_b_per_user     0.00145 | grad_wrt_c_per_item     0.00079 | grad_wrt_gender_item     0.00041 | grad_wrt_age_item     0.00016 | grad_wrt_U     0.00000 | grad_wrt_V     0.00000\n",
      "epoch       2.500 | loss_total     0.91001 | train_MAE     0.74122 | valid_MAE     0.76612 | grad_wrt_b_per_user     0.00155 | grad_wrt_c_per_item     0.00094 | grad_wrt_gender_item     0.00048 | grad_wrt_age_item     0.00019 | grad_wrt_U     0.00000 | grad_wrt_V     0.00000\n",
      "epoch       3.000 | loss_total     0.89616 | train_MAE     0.73502 | valid_MAE     0.76285 | grad_wrt_b_per_user     0.00146 | grad_wrt_c_per_item     0.00083 | grad_wrt_gender_item     0.00042 | grad_wrt_age_item     0.00017 | grad_wrt_U     0.00000 | grad_wrt_V     0.00000\n",
      "epoch       3.500 | loss_total     0.88466 | train_MAE     0.73053 | valid_MAE     0.75932 | grad_wrt_b_per_user     0.00143 | grad_wrt_c_per_item     0.00080 | grad_wrt_gender_item     0.00041 | grad_wrt_age_item     0.00016 | grad_wrt_U     0.00000 | grad_wrt_V     0.00000\n",
      "epoch       4.000 | loss_total     0.86956 | train_MAE     0.72625 | valid_MAE     0.75921 | grad_wrt_b_per_user     0.00131 | grad_wrt_c_per_item     0.00076 | grad_wrt_gender_item     0.00038 | grad_wrt_age_item     0.00015 | grad_wrt_U     0.00000 | grad_wrt_V     0.00000\n",
      "epoch       4.500 | loss_total     0.86225 | train_MAE     0.72335 | valid_MAE     0.75853 | grad_wrt_b_per_user     0.00148 | grad_wrt_c_per_item     0.00079 | grad_wrt_gender_item     0.00040 | grad_wrt_age_item     0.00016 | grad_wrt_U     0.00000 | grad_wrt_V     0.00000\n",
      "epoch       5.000 | loss_total     0.85391 | train_MAE     0.72018 | valid_MAE     0.75515 | grad_wrt_b_per_user     0.00162 | grad_wrt_c_per_item     0.00090 | grad_wrt_gender_item     0.00046 | grad_wrt_age_item     0.00019 | grad_wrt_U     0.00000 | grad_wrt_V     0.00000\n",
      "epoch       5.500 | loss_total     0.84889 | train_MAE     0.71879 | valid_MAE     0.75606 | grad_wrt_b_per_user     0.00147 | grad_wrt_c_per_item     0.00087 | grad_wrt_gender_item     0.00043 | grad_wrt_age_item     0.00017 | grad_wrt_U     0.00000 | grad_wrt_V     0.00000\n",
      "epoch       6.000 | loss_total     0.84186 | train_MAE     0.71587 | valid_MAE     0.75423 | grad_wrt_b_per_user     0.00149 | grad_wrt_c_per_item     0.00084 | grad_wrt_gender_item     0.00042 | grad_wrt_age_item     0.00017 | grad_wrt_U     0.00000 | grad_wrt_V     0.00000\n",
      "epoch       6.500 | loss_total     0.84015 | train_MAE     0.71543 | valid_MAE     0.75551 | grad_wrt_b_per_user     0.00149 | grad_wrt_c_per_item     0.00078 | grad_wrt_gender_item     0.00041 | grad_wrt_age_item     0.00017 | grad_wrt_U     0.00000 | grad_wrt_V     0.00000\n",
      "epoch       7.000 | loss_total     0.83361 | train_MAE     0.71261 | valid_MAE     0.75297 | grad_wrt_b_per_user     0.00152 | grad_wrt_c_per_item     0.00084 | grad_wrt_gender_item     0.00045 | grad_wrt_age_item     0.00017 | grad_wrt_U     0.00000 | grad_wrt_V     0.00000\n"
     ]
    },
    {
     "name": "stdout",
     "output_type": "stream",
     "text": [
      "epoch       7.500 | loss_total     0.82738 | train_MAE     0.71215 | valid_MAE     0.75308 | grad_wrt_b_per_user     0.00137 | grad_wrt_c_per_item     0.00077 | grad_wrt_gender_item     0.00040 | grad_wrt_age_item     0.00016 | grad_wrt_U     0.00000 | grad_wrt_V     0.00000\n",
      "epoch       8.000 | loss_total     0.82729 | train_MAE     0.71002 | valid_MAE     0.75295 | grad_wrt_b_per_user     0.00138 | grad_wrt_c_per_item     0.00080 | grad_wrt_gender_item     0.00040 | grad_wrt_age_item     0.00016 | grad_wrt_U     0.00000 | grad_wrt_V     0.00000\n"
     ]
    },
    {
     "ename": "KeyboardInterrupt",
     "evalue": "",
     "output_type": "error",
     "traceback": [
      "\u001b[0;31m---------------------------------------------------------------------------\u001b[0m",
      "\u001b[0;31mKeyboardInterrupt\u001b[0m                         Traceback (most recent call last)",
      "\u001b[0;32m<ipython-input-24-8ae624d744a3>\u001b[0m in \u001b[0;36m<module>\u001b[0;34m\u001b[0m\n\u001b[1;32m      2\u001b[0m     n_epochs=25, batch_size=100, step_size=0.3,n_factors=10, alpha=1)\n\u001b[1;32m      3\u001b[0m \u001b[0mmodel_b2\u001b[0m\u001b[0;34m.\u001b[0m\u001b[0minit_parameter_dict\u001b[0m\u001b[0;34m(\u001b[0m\u001b[0mn_users\u001b[0m\u001b[0;34m,\u001b[0m \u001b[0mn_items\u001b[0m\u001b[0;34m,\u001b[0m \u001b[0mtrain_tuple\u001b[0m\u001b[0;34m)\u001b[0m\u001b[0;34m\u001b[0m\u001b[0;34m\u001b[0m\u001b[0m\n\u001b[0;32m----> 4\u001b[0;31m \u001b[0mmodel_b2\u001b[0m\u001b[0;34m.\u001b[0m\u001b[0mfit\u001b[0m\u001b[0;34m(\u001b[0m\u001b[0mtrain_tuple\u001b[0m\u001b[0;34m,\u001b[0m \u001b[0mvalid_tuple\u001b[0m\u001b[0;34m)\u001b[0m\u001b[0;34m\u001b[0m\u001b[0;34m\u001b[0m\u001b[0m\n\u001b[0m",
      "\u001b[0;32m~/PycharmProjects/project-C/AbstractBaseCollabFilterSGD.py\u001b[0m in \u001b[0;36mfit\u001b[0;34m(self, train_data_tuple, valid_data_tuple)\u001b[0m\n\u001b[1;32m    174\u001b[0m                 \u001b[0;31m#   Keys are string names of individual parameters\u001b[0m\u001b[0;34m\u001b[0m\u001b[0;34m\u001b[0m\u001b[0;34m\u001b[0m\u001b[0m\n\u001b[1;32m    175\u001b[0m                 \u001b[0;31m#   Values are autograd-generated numpy arrays\u001b[0m\u001b[0;34m\u001b[0m\u001b[0;34m\u001b[0m\u001b[0;34m\u001b[0m\u001b[0m\n\u001b[0;32m--> 176\u001b[0;31m                 loss, grad_dict = self.calc_loss_and_grad_wrt_parameter_dict(\n\u001b[0m\u001b[1;32m    177\u001b[0m                     self.param_dict, batch_tuple)\n\u001b[1;32m    178\u001b[0m \u001b[0;34m\u001b[0m\u001b[0m\n",
      "\u001b[0;32m~/PycharmProjects/project-C/AbstractBaseCollabFilterSGD.py\u001b[0m in \u001b[0;36mcalc_loss_and_grad_wrt_parameter_dict\u001b[0;34m(self, param_dict, data_tuple)\u001b[0m\n\u001b[1;32m    100\u001b[0m             self._calc_loss_and_grad_wrt_param_dict = value_and_grad(\n\u001b[1;32m    101\u001b[0m                 self.calc_loss_wrt_parameter_dict, argnum=[0])\n\u001b[0;32m--> 102\u001b[0;31m         loss, grad_dict_tuple = self._calc_loss_and_grad_wrt_param_dict(\n\u001b[0m\u001b[1;32m    103\u001b[0m             self.param_dict, data_tuple)\n\u001b[1;32m    104\u001b[0m         \u001b[0mgrad_dict\u001b[0m \u001b[0;34m=\u001b[0m \u001b[0mgrad_dict_tuple\u001b[0m\u001b[0;34m[\u001b[0m\u001b[0;36m0\u001b[0m\u001b[0;34m]\u001b[0m \u001b[0;31m# Unpack tuple output of autograd\u001b[0m\u001b[0;34m\u001b[0m\u001b[0;34m\u001b[0m\u001b[0m\n",
      "\u001b[0;32m/opt/anaconda3/envs/comp135_2020f_env/lib/python3.8/site-packages/autograd/wrap_util.py\u001b[0m in \u001b[0;36mnary_f\u001b[0;34m(*args, **kwargs)\u001b[0m\n\u001b[1;32m     18\u001b[0m             \u001b[0;32melse\u001b[0m\u001b[0;34m:\u001b[0m\u001b[0;34m\u001b[0m\u001b[0;34m\u001b[0m\u001b[0m\n\u001b[1;32m     19\u001b[0m                 \u001b[0mx\u001b[0m \u001b[0;34m=\u001b[0m \u001b[0mtuple\u001b[0m\u001b[0;34m(\u001b[0m\u001b[0margs\u001b[0m\u001b[0;34m[\u001b[0m\u001b[0mi\u001b[0m\u001b[0;34m]\u001b[0m \u001b[0;32mfor\u001b[0m \u001b[0mi\u001b[0m \u001b[0;32min\u001b[0m \u001b[0margnum\u001b[0m\u001b[0;34m)\u001b[0m\u001b[0;34m\u001b[0m\u001b[0;34m\u001b[0m\u001b[0m\n\u001b[0;32m---> 20\u001b[0;31m             \u001b[0;32mreturn\u001b[0m \u001b[0munary_operator\u001b[0m\u001b[0;34m(\u001b[0m\u001b[0munary_f\u001b[0m\u001b[0;34m,\u001b[0m \u001b[0mx\u001b[0m\u001b[0;34m,\u001b[0m \u001b[0;34m*\u001b[0m\u001b[0mnary_op_args\u001b[0m\u001b[0;34m,\u001b[0m \u001b[0;34m**\u001b[0m\u001b[0mnary_op_kwargs\u001b[0m\u001b[0;34m)\u001b[0m\u001b[0;34m\u001b[0m\u001b[0;34m\u001b[0m\u001b[0m\n\u001b[0m\u001b[1;32m     21\u001b[0m         \u001b[0;32mreturn\u001b[0m \u001b[0mnary_f\u001b[0m\u001b[0;34m\u001b[0m\u001b[0;34m\u001b[0m\u001b[0m\n\u001b[1;32m     22\u001b[0m     \u001b[0;32mreturn\u001b[0m \u001b[0mnary_operator\u001b[0m\u001b[0;34m\u001b[0m\u001b[0;34m\u001b[0m\u001b[0m\n",
      "\u001b[0;32m/opt/anaconda3/envs/comp135_2020f_env/lib/python3.8/site-packages/autograd/differential_operators.py\u001b[0m in \u001b[0;36mvalue_and_grad\u001b[0;34m(fun, x)\u001b[0m\n\u001b[1;32m    133\u001b[0m     \"\"\"Returns a function that returns both value and gradient. Suitable for use\n\u001b[1;32m    134\u001b[0m     in scipy.optimize\"\"\"\n\u001b[0;32m--> 135\u001b[0;31m     \u001b[0mvjp\u001b[0m\u001b[0;34m,\u001b[0m \u001b[0mans\u001b[0m \u001b[0;34m=\u001b[0m \u001b[0m_make_vjp\u001b[0m\u001b[0;34m(\u001b[0m\u001b[0mfun\u001b[0m\u001b[0;34m,\u001b[0m \u001b[0mx\u001b[0m\u001b[0;34m)\u001b[0m\u001b[0;34m\u001b[0m\u001b[0;34m\u001b[0m\u001b[0m\n\u001b[0m\u001b[1;32m    136\u001b[0m     \u001b[0;32mif\u001b[0m \u001b[0;32mnot\u001b[0m \u001b[0mvspace\u001b[0m\u001b[0;34m(\u001b[0m\u001b[0mans\u001b[0m\u001b[0;34m)\u001b[0m\u001b[0;34m.\u001b[0m\u001b[0msize\u001b[0m \u001b[0;34m==\u001b[0m \u001b[0;36m1\u001b[0m\u001b[0;34m:\u001b[0m\u001b[0;34m\u001b[0m\u001b[0;34m\u001b[0m\u001b[0m\n\u001b[1;32m    137\u001b[0m         raise TypeError(\"value_and_grad only applies to real scalar-output \"\n",
      "\u001b[0;32m/opt/anaconda3/envs/comp135_2020f_env/lib/python3.8/site-packages/autograd/core.py\u001b[0m in \u001b[0;36mmake_vjp\u001b[0;34m(fun, x)\u001b[0m\n\u001b[1;32m      8\u001b[0m \u001b[0;32mdef\u001b[0m \u001b[0mmake_vjp\u001b[0m\u001b[0;34m(\u001b[0m\u001b[0mfun\u001b[0m\u001b[0;34m,\u001b[0m \u001b[0mx\u001b[0m\u001b[0;34m)\u001b[0m\u001b[0;34m:\u001b[0m\u001b[0;34m\u001b[0m\u001b[0;34m\u001b[0m\u001b[0m\n\u001b[1;32m      9\u001b[0m     \u001b[0mstart_node\u001b[0m \u001b[0;34m=\u001b[0m \u001b[0mVJPNode\u001b[0m\u001b[0;34m.\u001b[0m\u001b[0mnew_root\u001b[0m\u001b[0;34m(\u001b[0m\u001b[0;34m)\u001b[0m\u001b[0;34m\u001b[0m\u001b[0;34m\u001b[0m\u001b[0m\n\u001b[0;32m---> 10\u001b[0;31m     \u001b[0mend_value\u001b[0m\u001b[0;34m,\u001b[0m \u001b[0mend_node\u001b[0m \u001b[0;34m=\u001b[0m  \u001b[0mtrace\u001b[0m\u001b[0;34m(\u001b[0m\u001b[0mstart_node\u001b[0m\u001b[0;34m,\u001b[0m \u001b[0mfun\u001b[0m\u001b[0;34m,\u001b[0m \u001b[0mx\u001b[0m\u001b[0;34m)\u001b[0m\u001b[0;34m\u001b[0m\u001b[0;34m\u001b[0m\u001b[0m\n\u001b[0m\u001b[1;32m     11\u001b[0m     \u001b[0;32mif\u001b[0m \u001b[0mend_node\u001b[0m \u001b[0;32mis\u001b[0m \u001b[0;32mNone\u001b[0m\u001b[0;34m:\u001b[0m\u001b[0;34m\u001b[0m\u001b[0;34m\u001b[0m\u001b[0m\n\u001b[1;32m     12\u001b[0m         \u001b[0;32mdef\u001b[0m \u001b[0mvjp\u001b[0m\u001b[0;34m(\u001b[0m\u001b[0mg\u001b[0m\u001b[0;34m)\u001b[0m\u001b[0;34m:\u001b[0m \u001b[0;32mreturn\u001b[0m \u001b[0mvspace\u001b[0m\u001b[0;34m(\u001b[0m\u001b[0mx\u001b[0m\u001b[0;34m)\u001b[0m\u001b[0;34m.\u001b[0m\u001b[0mzeros\u001b[0m\u001b[0;34m(\u001b[0m\u001b[0;34m)\u001b[0m\u001b[0;34m\u001b[0m\u001b[0;34m\u001b[0m\u001b[0m\n",
      "\u001b[0;32m/opt/anaconda3/envs/comp135_2020f_env/lib/python3.8/site-packages/autograd/tracer.py\u001b[0m in \u001b[0;36mtrace\u001b[0;34m(start_node, fun, x)\u001b[0m\n\u001b[1;32m      8\u001b[0m     \u001b[0;32mwith\u001b[0m \u001b[0mtrace_stack\u001b[0m\u001b[0;34m.\u001b[0m\u001b[0mnew_trace\u001b[0m\u001b[0;34m(\u001b[0m\u001b[0;34m)\u001b[0m \u001b[0;32mas\u001b[0m \u001b[0mt\u001b[0m\u001b[0;34m:\u001b[0m\u001b[0;34m\u001b[0m\u001b[0;34m\u001b[0m\u001b[0m\n\u001b[1;32m      9\u001b[0m         \u001b[0mstart_box\u001b[0m \u001b[0;34m=\u001b[0m \u001b[0mnew_box\u001b[0m\u001b[0;34m(\u001b[0m\u001b[0mx\u001b[0m\u001b[0;34m,\u001b[0m \u001b[0mt\u001b[0m\u001b[0;34m,\u001b[0m \u001b[0mstart_node\u001b[0m\u001b[0;34m)\u001b[0m\u001b[0;34m\u001b[0m\u001b[0;34m\u001b[0m\u001b[0m\n\u001b[0;32m---> 10\u001b[0;31m         \u001b[0mend_box\u001b[0m \u001b[0;34m=\u001b[0m \u001b[0mfun\u001b[0m\u001b[0;34m(\u001b[0m\u001b[0mstart_box\u001b[0m\u001b[0;34m)\u001b[0m\u001b[0;34m\u001b[0m\u001b[0;34m\u001b[0m\u001b[0m\n\u001b[0m\u001b[1;32m     11\u001b[0m         \u001b[0;32mif\u001b[0m \u001b[0misbox\u001b[0m\u001b[0;34m(\u001b[0m\u001b[0mend_box\u001b[0m\u001b[0;34m)\u001b[0m \u001b[0;32mand\u001b[0m \u001b[0mend_box\u001b[0m\u001b[0;34m.\u001b[0m\u001b[0m_trace\u001b[0m \u001b[0;34m==\u001b[0m \u001b[0mstart_box\u001b[0m\u001b[0;34m.\u001b[0m\u001b[0m_trace\u001b[0m\u001b[0;34m:\u001b[0m\u001b[0;34m\u001b[0m\u001b[0;34m\u001b[0m\u001b[0m\n\u001b[1;32m     12\u001b[0m             \u001b[0;32mreturn\u001b[0m \u001b[0mend_box\u001b[0m\u001b[0;34m.\u001b[0m\u001b[0m_value\u001b[0m\u001b[0;34m,\u001b[0m \u001b[0mend_box\u001b[0m\u001b[0;34m.\u001b[0m\u001b[0m_node\u001b[0m\u001b[0;34m\u001b[0m\u001b[0;34m\u001b[0m\u001b[0m\n",
      "\u001b[0;32m/opt/anaconda3/envs/comp135_2020f_env/lib/python3.8/site-packages/autograd/wrap_util.py\u001b[0m in \u001b[0;36munary_f\u001b[0;34m(x)\u001b[0m\n\u001b[1;32m     13\u001b[0m                 \u001b[0;32melse\u001b[0m\u001b[0;34m:\u001b[0m\u001b[0;34m\u001b[0m\u001b[0;34m\u001b[0m\u001b[0m\n\u001b[1;32m     14\u001b[0m                     \u001b[0msubargs\u001b[0m \u001b[0;34m=\u001b[0m \u001b[0msubvals\u001b[0m\u001b[0;34m(\u001b[0m\u001b[0margs\u001b[0m\u001b[0;34m,\u001b[0m \u001b[0mzip\u001b[0m\u001b[0;34m(\u001b[0m\u001b[0margnum\u001b[0m\u001b[0;34m,\u001b[0m \u001b[0mx\u001b[0m\u001b[0;34m)\u001b[0m\u001b[0;34m)\u001b[0m\u001b[0;34m\u001b[0m\u001b[0;34m\u001b[0m\u001b[0m\n\u001b[0;32m---> 15\u001b[0;31m                 \u001b[0;32mreturn\u001b[0m \u001b[0mfun\u001b[0m\u001b[0;34m(\u001b[0m\u001b[0;34m*\u001b[0m\u001b[0msubargs\u001b[0m\u001b[0;34m,\u001b[0m \u001b[0;34m**\u001b[0m\u001b[0mkwargs\u001b[0m\u001b[0;34m)\u001b[0m\u001b[0;34m\u001b[0m\u001b[0;34m\u001b[0m\u001b[0m\n\u001b[0m\u001b[1;32m     16\u001b[0m             \u001b[0;32mif\u001b[0m \u001b[0misinstance\u001b[0m\u001b[0;34m(\u001b[0m\u001b[0margnum\u001b[0m\u001b[0;34m,\u001b[0m \u001b[0mint\u001b[0m\u001b[0;34m)\u001b[0m\u001b[0;34m:\u001b[0m\u001b[0;34m\u001b[0m\u001b[0;34m\u001b[0m\u001b[0m\n\u001b[1;32m     17\u001b[0m                 \u001b[0mx\u001b[0m \u001b[0;34m=\u001b[0m \u001b[0margs\u001b[0m\u001b[0;34m[\u001b[0m\u001b[0margnum\u001b[0m\u001b[0;34m]\u001b[0m\u001b[0;34m\u001b[0m\u001b[0;34m\u001b[0m\u001b[0m\n",
      "\u001b[0;32m~/PycharmProjects/project-C/IncludeGender.py\u001b[0m in \u001b[0;36mcalc_loss_wrt_parameter_dict\u001b[0;34m(self, param_dict, data_tuple)\u001b[0m\n\u001b[1;32m    115\u001b[0m         \u001b[0;31m# TIP: use self.alpha to access regularization strength\u001b[0m\u001b[0;34m\u001b[0m\u001b[0;34m\u001b[0m\u001b[0;34m\u001b[0m\u001b[0m\n\u001b[1;32m    116\u001b[0m         \u001b[0my_N\u001b[0m \u001b[0;34m=\u001b[0m \u001b[0mdata_tuple\u001b[0m\u001b[0;34m[\u001b[0m\u001b[0;36m2\u001b[0m\u001b[0;34m]\u001b[0m\u001b[0;34m\u001b[0m\u001b[0;34m\u001b[0m\u001b[0m\n\u001b[0;32m--> 117\u001b[0;31m         \u001b[0myhat_N\u001b[0m \u001b[0;34m=\u001b[0m \u001b[0mself\u001b[0m\u001b[0;34m.\u001b[0m\u001b[0mpredict\u001b[0m\u001b[0;34m(\u001b[0m\u001b[0mdata_tuple\u001b[0m\u001b[0;34m[\u001b[0m\u001b[0;36m0\u001b[0m\u001b[0;34m]\u001b[0m\u001b[0;34m,\u001b[0m \u001b[0mdata_tuple\u001b[0m\u001b[0;34m[\u001b[0m\u001b[0;36m1\u001b[0m\u001b[0;34m]\u001b[0m\u001b[0;34m,\u001b[0m \u001b[0;34m**\u001b[0m\u001b[0mparam_dict\u001b[0m\u001b[0;34m)\u001b[0m\u001b[0;34m\u001b[0m\u001b[0;34m\u001b[0m\u001b[0m\n\u001b[0m\u001b[1;32m    118\u001b[0m         \u001b[0mloss_total\u001b[0m \u001b[0;34m=\u001b[0m \u001b[0mag_np\u001b[0m\u001b[0;34m.\u001b[0m\u001b[0msum\u001b[0m\u001b[0;34m(\u001b[0m\u001b[0mag_np\u001b[0m\u001b[0;34m.\u001b[0m\u001b[0mabs\u001b[0m\u001b[0;34m(\u001b[0m\u001b[0my_N\u001b[0m \u001b[0;34m-\u001b[0m \u001b[0myhat_N\u001b[0m\u001b[0;34m)\u001b[0m\u001b[0;34m)\u001b[0m \u001b[0;34m+\u001b[0m \u001b[0mself\u001b[0m\u001b[0;34m.\u001b[0m\u001b[0malpha\u001b[0m\u001b[0;34m*\u001b[0m\u001b[0;34m(\u001b[0m\u001b[0mag_np\u001b[0m\u001b[0;34m.\u001b[0m\u001b[0msum\u001b[0m\u001b[0;34m(\u001b[0m\u001b[0mag_np\u001b[0m\u001b[0;34m.\u001b[0m\u001b[0msquare\u001b[0m\u001b[0;34m(\u001b[0m\u001b[0mparam_dict\u001b[0m\u001b[0;34m[\u001b[0m\u001b[0;34m'U'\u001b[0m\u001b[0;34m]\u001b[0m\u001b[0;34m)\u001b[0m\u001b[0;34m)\u001b[0m\u001b[0;34m+\u001b[0m\u001b[0mag_np\u001b[0m\u001b[0;34m.\u001b[0m\u001b[0msum\u001b[0m\u001b[0;34m(\u001b[0m\u001b[0mag_np\u001b[0m\u001b[0;34m.\u001b[0m\u001b[0msquare\u001b[0m\u001b[0;34m(\u001b[0m\u001b[0mparam_dict\u001b[0m\u001b[0;34m[\u001b[0m\u001b[0;34m'V'\u001b[0m\u001b[0;34m]\u001b[0m\u001b[0;34m)\u001b[0m\u001b[0;34m)\u001b[0m\u001b[0;34m)\u001b[0m\u001b[0;34m\u001b[0m\u001b[0;34m\u001b[0m\u001b[0m\n\u001b[1;32m    119\u001b[0m         \u001b[0;32mreturn\u001b[0m \u001b[0mloss_total\u001b[0m\u001b[0;34m\u001b[0m\u001b[0;34m\u001b[0m\u001b[0m\n",
      "\u001b[0;32m~/PycharmProjects/project-C/IncludeGender.py\u001b[0m in \u001b[0;36mpredict\u001b[0;34m(self, user_id_N, item_id_N, b_per_user, c_per_item, gender_item, age_item, U, V)\u001b[0m\n\u001b[1;32m     95\u001b[0m             \u001b[0mage_group\u001b[0m \u001b[0;34m=\u001b[0m \u001b[0mage\u001b[0m\u001b[0;34m//\u001b[0m\u001b[0;36m20\u001b[0m\u001b[0;34m\u001b[0m\u001b[0;34m\u001b[0m\u001b[0m\n\u001b[1;32m     96\u001b[0m             \u001b[0mgender\u001b[0m \u001b[0;34m=\u001b[0m \u001b[0mself\u001b[0m\u001b[0;34m.\u001b[0m\u001b[0muser_info\u001b[0m\u001b[0;34m[\u001b[0m\u001b[0;36m2\u001b[0m\u001b[0;34m]\u001b[0m\u001b[0;34m[\u001b[0m\u001b[0mi\u001b[0m\u001b[0;34m]\u001b[0m\u001b[0;34m\u001b[0m\u001b[0;34m\u001b[0m\u001b[0m\n\u001b[0;32m---> 97\u001b[0;31m             \u001b[0myhat_N\u001b[0m\u001b[0;34m.\u001b[0m\u001b[0mappend\u001b[0m\u001b[0;34m(\u001b[0m\u001b[0mb_per_user\u001b[0m\u001b[0;34m[\u001b[0m\u001b[0mi\u001b[0m\u001b[0;34m]\u001b[0m \u001b[0;34m+\u001b[0m \u001b[0mc_per_item\u001b[0m\u001b[0;34m[\u001b[0m\u001b[0mj\u001b[0m\u001b[0;34m]\u001b[0m \u001b[0;34m+\u001b[0m \u001b[0mage_item\u001b[0m\u001b[0;34m[\u001b[0m\u001b[0mj\u001b[0m\u001b[0;34m]\u001b[0m\u001b[0;34m[\u001b[0m\u001b[0mage_group\u001b[0m\u001b[0;34m]\u001b[0m \u001b[0;34m+\u001b[0m \u001b[0mgender_item\u001b[0m\u001b[0;34m[\u001b[0m\u001b[0mj\u001b[0m\u001b[0;34m]\u001b[0m\u001b[0;34m[\u001b[0m\u001b[0mgender\u001b[0m\u001b[0;34m]\u001b[0m \u001b[0;34m+\u001b[0m \u001b[0mag_np\u001b[0m\u001b[0;34m.\u001b[0m\u001b[0mdot\u001b[0m\u001b[0;34m(\u001b[0m\u001b[0mU\u001b[0m\u001b[0;34m[\u001b[0m\u001b[0mi\u001b[0m\u001b[0;34m]\u001b[0m\u001b[0;34m,\u001b[0m\u001b[0mV\u001b[0m\u001b[0;34m[\u001b[0m\u001b[0mj\u001b[0m\u001b[0;34m]\u001b[0m\u001b[0;34m)\u001b[0m\u001b[0;34m)\u001b[0m\u001b[0;34m\u001b[0m\u001b[0;34m\u001b[0m\u001b[0m\n\u001b[0m\u001b[1;32m     98\u001b[0m         \u001b[0;32mreturn\u001b[0m \u001b[0mag_np\u001b[0m\u001b[0;34m.\u001b[0m\u001b[0marray\u001b[0m\u001b[0;34m(\u001b[0m\u001b[0myhat_N\u001b[0m\u001b[0;34m)\u001b[0m\u001b[0;34m.\u001b[0m\u001b[0mreshape\u001b[0m\u001b[0;34m(\u001b[0m\u001b[0;34m-\u001b[0m\u001b[0;36m1\u001b[0m\u001b[0;34m)\u001b[0m\u001b[0;34m\u001b[0m\u001b[0;34m\u001b[0m\u001b[0m\n\u001b[1;32m     99\u001b[0m \u001b[0;34m\u001b[0m\u001b[0m\n",
      "\u001b[0;32m/opt/anaconda3/envs/comp135_2020f_env/lib/python3.8/site-packages/autograd/numpy/numpy_boxes.py\u001b[0m in \u001b[0;36m__add__\u001b[0;34m(self, other)\u001b[0m\n\u001b[1;32m     23\u001b[0m \u001b[0;34m\u001b[0m\u001b[0m\n\u001b[1;32m     24\u001b[0m     \u001b[0;32mdef\u001b[0m \u001b[0m__neg__\u001b[0m\u001b[0;34m(\u001b[0m\u001b[0mself\u001b[0m\u001b[0;34m)\u001b[0m\u001b[0;34m:\u001b[0m \u001b[0;32mreturn\u001b[0m \u001b[0manp\u001b[0m\u001b[0;34m.\u001b[0m\u001b[0mnegative\u001b[0m\u001b[0;34m(\u001b[0m\u001b[0mself\u001b[0m\u001b[0;34m)\u001b[0m\u001b[0;34m\u001b[0m\u001b[0;34m\u001b[0m\u001b[0m\n\u001b[0;32m---> 25\u001b[0;31m     \u001b[0;32mdef\u001b[0m \u001b[0m__add__\u001b[0m\u001b[0;34m(\u001b[0m\u001b[0mself\u001b[0m\u001b[0;34m,\u001b[0m \u001b[0mother\u001b[0m\u001b[0;34m)\u001b[0m\u001b[0;34m:\u001b[0m \u001b[0;32mreturn\u001b[0m \u001b[0manp\u001b[0m\u001b[0;34m.\u001b[0m\u001b[0madd\u001b[0m\u001b[0;34m(\u001b[0m     \u001b[0mself\u001b[0m\u001b[0;34m,\u001b[0m \u001b[0mother\u001b[0m\u001b[0;34m)\u001b[0m\u001b[0;34m\u001b[0m\u001b[0;34m\u001b[0m\u001b[0m\n\u001b[0m\u001b[1;32m     26\u001b[0m     \u001b[0;32mdef\u001b[0m \u001b[0m__sub__\u001b[0m\u001b[0;34m(\u001b[0m\u001b[0mself\u001b[0m\u001b[0;34m,\u001b[0m \u001b[0mother\u001b[0m\u001b[0;34m)\u001b[0m\u001b[0;34m:\u001b[0m \u001b[0;32mreturn\u001b[0m \u001b[0manp\u001b[0m\u001b[0;34m.\u001b[0m\u001b[0msubtract\u001b[0m\u001b[0;34m(\u001b[0m\u001b[0mself\u001b[0m\u001b[0;34m,\u001b[0m \u001b[0mother\u001b[0m\u001b[0;34m)\u001b[0m\u001b[0;34m\u001b[0m\u001b[0;34m\u001b[0m\u001b[0m\n\u001b[1;32m     27\u001b[0m     \u001b[0;32mdef\u001b[0m \u001b[0m__mul__\u001b[0m\u001b[0;34m(\u001b[0m\u001b[0mself\u001b[0m\u001b[0;34m,\u001b[0m \u001b[0mother\u001b[0m\u001b[0;34m)\u001b[0m\u001b[0;34m:\u001b[0m \u001b[0;32mreturn\u001b[0m \u001b[0manp\u001b[0m\u001b[0;34m.\u001b[0m\u001b[0mmultiply\u001b[0m\u001b[0;34m(\u001b[0m\u001b[0mself\u001b[0m\u001b[0;34m,\u001b[0m \u001b[0mother\u001b[0m\u001b[0;34m)\u001b[0m\u001b[0;34m\u001b[0m\u001b[0;34m\u001b[0m\u001b[0m\n",
      "\u001b[0;32m/opt/anaconda3/envs/comp135_2020f_env/lib/python3.8/site-packages/autograd/tracer.py\u001b[0m in \u001b[0;36mf_wrapped\u001b[0;34m(*args, **kwargs)\u001b[0m\n\u001b[1;32m     43\u001b[0m             \u001b[0margnums\u001b[0m \u001b[0;34m=\u001b[0m \u001b[0mtuple\u001b[0m\u001b[0;34m(\u001b[0m\u001b[0margnum\u001b[0m    \u001b[0;32mfor\u001b[0m \u001b[0margnum\u001b[0m\u001b[0;34m,\u001b[0m \u001b[0m_\u001b[0m   \u001b[0;32min\u001b[0m \u001b[0mboxed_args\u001b[0m\u001b[0;34m)\u001b[0m\u001b[0;34m\u001b[0m\u001b[0;34m\u001b[0m\u001b[0m\n\u001b[1;32m     44\u001b[0m             \u001b[0mans\u001b[0m \u001b[0;34m=\u001b[0m \u001b[0mf_wrapped\u001b[0m\u001b[0;34m(\u001b[0m\u001b[0;34m*\u001b[0m\u001b[0margvals\u001b[0m\u001b[0;34m,\u001b[0m \u001b[0;34m**\u001b[0m\u001b[0mkwargs\u001b[0m\u001b[0;34m)\u001b[0m\u001b[0;34m\u001b[0m\u001b[0;34m\u001b[0m\u001b[0m\n\u001b[0;32m---> 45\u001b[0;31m             \u001b[0mnode\u001b[0m \u001b[0;34m=\u001b[0m \u001b[0mnode_constructor\u001b[0m\u001b[0;34m(\u001b[0m\u001b[0mans\u001b[0m\u001b[0;34m,\u001b[0m \u001b[0mf_wrapped\u001b[0m\u001b[0;34m,\u001b[0m \u001b[0margvals\u001b[0m\u001b[0;34m,\u001b[0m \u001b[0mkwargs\u001b[0m\u001b[0;34m,\u001b[0m \u001b[0margnums\u001b[0m\u001b[0;34m,\u001b[0m \u001b[0mparents\u001b[0m\u001b[0;34m)\u001b[0m\u001b[0;34m\u001b[0m\u001b[0;34m\u001b[0m\u001b[0m\n\u001b[0m\u001b[1;32m     46\u001b[0m             \u001b[0;32mreturn\u001b[0m \u001b[0mnew_box\u001b[0m\u001b[0;34m(\u001b[0m\u001b[0mans\u001b[0m\u001b[0;34m,\u001b[0m \u001b[0mtrace\u001b[0m\u001b[0;34m,\u001b[0m \u001b[0mnode\u001b[0m\u001b[0;34m)\u001b[0m\u001b[0;34m\u001b[0m\u001b[0;34m\u001b[0m\u001b[0m\n\u001b[1;32m     47\u001b[0m         \u001b[0;32melse\u001b[0m\u001b[0;34m:\u001b[0m\u001b[0;34m\u001b[0m\u001b[0;34m\u001b[0m\u001b[0m\n",
      "\u001b[0;32m/opt/anaconda3/envs/comp135_2020f_env/lib/python3.8/site-packages/autograd/core.py\u001b[0m in \u001b[0;36m__init__\u001b[0;34m(self, value, fun, args, kwargs, parent_argnums, parents)\u001b[0m\n\u001b[1;32m     34\u001b[0m             raise NotImplementedError(\"VJP of {} wrt argnums {} not defined\"\n\u001b[1;32m     35\u001b[0m                                       .format(fun_name, parent_argnums))\n\u001b[0;32m---> 36\u001b[0;31m         \u001b[0mself\u001b[0m\u001b[0;34m.\u001b[0m\u001b[0mvjp\u001b[0m \u001b[0;34m=\u001b[0m \u001b[0mvjpmaker\u001b[0m\u001b[0;34m(\u001b[0m\u001b[0mparent_argnums\u001b[0m\u001b[0;34m,\u001b[0m \u001b[0mvalue\u001b[0m\u001b[0;34m,\u001b[0m \u001b[0margs\u001b[0m\u001b[0;34m,\u001b[0m \u001b[0mkwargs\u001b[0m\u001b[0;34m)\u001b[0m\u001b[0;34m\u001b[0m\u001b[0;34m\u001b[0m\u001b[0m\n\u001b[0m\u001b[1;32m     37\u001b[0m \u001b[0;34m\u001b[0m\u001b[0m\n\u001b[1;32m     38\u001b[0m     \u001b[0;32mdef\u001b[0m \u001b[0minitialize_root\u001b[0m\u001b[0;34m(\u001b[0m\u001b[0mself\u001b[0m\u001b[0;34m)\u001b[0m\u001b[0;34m:\u001b[0m\u001b[0;34m\u001b[0m\u001b[0;34m\u001b[0m\u001b[0m\n",
      "\u001b[0;32m/opt/anaconda3/envs/comp135_2020f_env/lib/python3.8/site-packages/autograd/core.py\u001b[0m in \u001b[0;36mvjp_argnums\u001b[0;34m(argnums, ans, args, kwargs)\u001b[0m\n\u001b[1;32m     54\u001b[0m     vjps_dict = {argnum : translate_vjp(vjpmaker, fun, argnum)\n\u001b[1;32m     55\u001b[0m                  for argnum, vjpmaker in zip(argnums, vjpmakers)}\n\u001b[0;32m---> 56\u001b[0;31m     \u001b[0;32mdef\u001b[0m \u001b[0mvjp_argnums\u001b[0m\u001b[0;34m(\u001b[0m\u001b[0margnums\u001b[0m\u001b[0;34m,\u001b[0m \u001b[0mans\u001b[0m\u001b[0;34m,\u001b[0m \u001b[0margs\u001b[0m\u001b[0;34m,\u001b[0m \u001b[0mkwargs\u001b[0m\u001b[0;34m)\u001b[0m\u001b[0;34m:\u001b[0m\u001b[0;34m\u001b[0m\u001b[0;34m\u001b[0m\u001b[0m\n\u001b[0m\u001b[1;32m     57\u001b[0m         \u001b[0mL\u001b[0m \u001b[0;34m=\u001b[0m \u001b[0mlen\u001b[0m\u001b[0;34m(\u001b[0m\u001b[0margnums\u001b[0m\u001b[0;34m)\u001b[0m\u001b[0;34m\u001b[0m\u001b[0;34m\u001b[0m\u001b[0m\n\u001b[1;32m     58\u001b[0m         \u001b[0;31m# These first two cases are just optimizations\u001b[0m\u001b[0;34m\u001b[0m\u001b[0;34m\u001b[0m\u001b[0;34m\u001b[0m\u001b[0m\n",
      "\u001b[0;31mKeyboardInterrupt\u001b[0m: "
     ]
    }
   ],
   "source": [
    "model_b2 = IncludeGender.IncludeGenderAge(\n",
    "    n_epochs=25, batch_size=100, step_size=0.3,n_factors=10, alpha=1)\n",
    "model_b2.init_parameter_dict(n_users, n_items, train_tuple)\n",
    "model_b2.fit(train_tuple, valid_tuple)"
   ]
  },
  {
   "cell_type": "code",
   "execution_count": 4,
   "metadata": {},
   "outputs": [],
   "source": [
    "import pandas as pd\n",
    "import numpy as np\n",
    "leader_set = pd.read_csv('data_movie_lens_100k/ratings_masked_leaderboard_set.csv')\n",
    "\n",
    "leader_set\n",
    "\n",
    "predict_tuple = (\n",
    "        leader_set['user_id'].values,\n",
    "        leader_set['item_id'].values,)\n",
    "\n",
    "predict_tuple\n",
    "\n",
    "leader_result = model_b.predict(predict_tuple[0],predict_tuple[1],**model_b.param_dict)\n",
    "\n",
    "\n",
    "np.savetxt('predicted_ratings_leaderboard.txt', leader_result, delimiter='\\n')"
   ]
  },
  {
   "cell_type": "code",
   "execution_count": 5,
   "metadata": {},
   "outputs": [
    {
     "data": {
      "text/plain": [
       "25"
      ]
     },
     "execution_count": 5,
     "metadata": {},
     "output_type": "execute_result"
    }
   ],
   "source": [
    "model_b.n_epochs"
   ]
  },
  {
   "cell_type": "code",
   "execution_count": 22,
   "metadata": {},
   "outputs": [
    {
     "ename": "ModuleNotFoundError",
     "evalue": "No module named 'surprise'",
     "output_type": "error",
     "traceback": [
      "\u001b[0;31m---------------------------------------------------------------------------\u001b[0m",
      "\u001b[0;31mModuleNotFoundError\u001b[0m                       Traceback (most recent call last)",
      "\u001b[0;32m<ipython-input-22-32d730880e43>\u001b[0m in \u001b[0;36m<module>\u001b[0;34m\u001b[0m\n\u001b[1;32m      9\u001b[0m \u001b[0;32mimport\u001b[0m \u001b[0mmatplotlib\u001b[0m\u001b[0;34m.\u001b[0m\u001b[0mpyplot\u001b[0m \u001b[0;32mas\u001b[0m \u001b[0mplt\u001b[0m\u001b[0;34m\u001b[0m\u001b[0;34m\u001b[0m\u001b[0m\n\u001b[1;32m     10\u001b[0m \u001b[0;34m\u001b[0m\u001b[0m\n\u001b[0;32m---> 11\u001b[0;31m \u001b[0;32mfrom\u001b[0m \u001b[0msurprise\u001b[0m \u001b[0;32mimport\u001b[0m \u001b[0mSVD\u001b[0m\u001b[0;34m\u001b[0m\u001b[0;34m\u001b[0m\u001b[0m\n\u001b[0m\u001b[1;32m     12\u001b[0m \u001b[0;32mfrom\u001b[0m \u001b[0msurprise\u001b[0m \u001b[0;32mimport\u001b[0m \u001b[0mDataset\u001b[0m\u001b[0;34m,\u001b[0m \u001b[0mReader\u001b[0m\u001b[0;34m,\u001b[0m \u001b[0maccuracy\u001b[0m\u001b[0;34m\u001b[0m\u001b[0;34m\u001b[0m\u001b[0m\n\u001b[1;32m     13\u001b[0m \u001b[0;32mfrom\u001b[0m \u001b[0msurprise\u001b[0m\u001b[0;34m.\u001b[0m\u001b[0mmodel_selection\u001b[0m \u001b[0;32mimport\u001b[0m \u001b[0mcross_validate\u001b[0m\u001b[0;34m\u001b[0m\u001b[0;34m\u001b[0m\u001b[0m\n",
      "\u001b[0;31mModuleNotFoundError\u001b[0m: No module named 'surprise'"
     ]
    }
   ],
   "source": [
    "'''\n",
    "Quick demonstration of how to use surprise with our movie lens 100k dataset\n",
    "\n",
    "'''\n",
    "\n",
    "import pandas as pd\n",
    "import numpy as np\n",
    "\n",
    "import matplotlib.pyplot as plt\n",
    "\n",
    "from surprise import SVD\n",
    "from surprise import Dataset, Reader, accuracy\n",
    "from surprise.model_selection import cross_validate\n",
    "\n",
    "reader = Reader(\n",
    "    line_format='user item rating', sep=',',\n",
    "    rating_scale=(1, 5), skip_lines=1)\n",
    "\n",
    "## Load the entire dev set in surprise's format\n",
    "train_set = Dataset.load_from_file(\n",
    "    'data_movie_lens_100k/ratings_all_development_set.csv', reader=reader)\n",
    "train_set = train_set.build_full_trainset()\n",
    "\n",
    "# Use the SVD algorithm\n",
    "for n_factors in [1]:\n",
    "    ## Fit model like our M3\n",
    "    model = SVD(n_factors=n_factors)\n",
    "    model.fit(train_set)\n",
    "\n",
    "    print(\"global mean:\")\n",
    "    print(model.trainset.global_mean)\n",
    "    print(\"shape of bias_per_item: \")\n",
    "    print(model.bi.shape)\n",
    "    print(\"shape of bias_per_user: \")\n",
    "    print(model.bu.shape)\n",
    "    print(\"shape of U (per user vectors): \")\n",
    "    print(model.pu.shape)\n",
    "    print(\"shape of V (per item vectors): \")\n",
    "    print(model.qi.shape)\n"
   ]
  },
  {
   "cell_type": "code",
   "execution_count": 23,
   "metadata": {},
   "outputs": [
    {
     "name": "stdout",
     "output_type": "stream",
     "text": [
      "Collecting surprise\n",
      "  Using cached surprise-0.1-py2.py3-none-any.whl (1.8 kB)\n",
      "Collecting scikit-surprise\n",
      "  Using cached scikit-surprise-1.1.1.tar.gz (11.8 MB)\n",
      "Requirement already satisfied: joblib>=0.11 in /opt/anaconda3/envs/comp135_2020f_env/lib/python3.8/site-packages (from scikit-surprise->surprise) (0.16.0)\n",
      "Requirement already satisfied: numpy>=1.11.2 in /opt/anaconda3/envs/comp135_2020f_env/lib/python3.8/site-packages (from scikit-surprise->surprise) (1.19.1)\n",
      "Requirement already satisfied: scipy>=1.0.0 in /opt/anaconda3/envs/comp135_2020f_env/lib/python3.8/site-packages (from scikit-surprise->surprise) (1.5.0)\n",
      "Requirement already satisfied: six>=1.10.0 in /opt/anaconda3/envs/comp135_2020f_env/lib/python3.8/site-packages (from scikit-surprise->surprise) (1.15.0)\n",
      "Building wheels for collected packages: scikit-surprise\n",
      "  Building wheel for scikit-surprise (setup.py) ... \u001b[?25lerror\n",
      "\u001b[31m  ERROR: Command errored out with exit status 1:\n",
      "   command: /opt/anaconda3/envs/comp135_2020f_env/bin/python -u -c 'import sys, setuptools, tokenize; sys.argv[0] = '\"'\"'/private/var/folders/rt/jk7vrmqn6rs6kdscxxssynzr0000gn/T/pip-install-5ux3h665/scikit-surprise/setup.py'\"'\"'; __file__='\"'\"'/private/var/folders/rt/jk7vrmqn6rs6kdscxxssynzr0000gn/T/pip-install-5ux3h665/scikit-surprise/setup.py'\"'\"';f=getattr(tokenize, '\"'\"'open'\"'\"', open)(__file__);code=f.read().replace('\"'\"'\\r\\n'\"'\"', '\"'\"'\\n'\"'\"');f.close();exec(compile(code, __file__, '\"'\"'exec'\"'\"'))' bdist_wheel -d /private/var/folders/rt/jk7vrmqn6rs6kdscxxssynzr0000gn/T/pip-wheel-4ojpbau5\n",
      "       cwd: /private/var/folders/rt/jk7vrmqn6rs6kdscxxssynzr0000gn/T/pip-install-5ux3h665/scikit-surprise/\n",
      "  Complete output (53 lines):\n",
      "  running bdist_wheel\n",
      "  running build\n",
      "  running build_py\n",
      "  creating build\n",
      "  creating build/lib.macosx-10.9-x86_64-3.8\n",
      "  creating build/lib.macosx-10.9-x86_64-3.8/surprise\n",
      "  copying surprise/builtin_datasets.py -> build/lib.macosx-10.9-x86_64-3.8/surprise\n",
      "  copying surprise/__init__.py -> build/lib.macosx-10.9-x86_64-3.8/surprise\n",
      "  copying surprise/dump.py -> build/lib.macosx-10.9-x86_64-3.8/surprise\n",
      "  copying surprise/dataset.py -> build/lib.macosx-10.9-x86_64-3.8/surprise\n",
      "  copying surprise/reader.py -> build/lib.macosx-10.9-x86_64-3.8/surprise\n",
      "  copying surprise/utils.py -> build/lib.macosx-10.9-x86_64-3.8/surprise\n",
      "  copying surprise/trainset.py -> build/lib.macosx-10.9-x86_64-3.8/surprise\n",
      "  copying surprise/accuracy.py -> build/lib.macosx-10.9-x86_64-3.8/surprise\n",
      "  copying surprise/__main__.py -> build/lib.macosx-10.9-x86_64-3.8/surprise\n",
      "  creating build/lib.macosx-10.9-x86_64-3.8/surprise/prediction_algorithms\n",
      "  copying surprise/prediction_algorithms/algo_base.py -> build/lib.macosx-10.9-x86_64-3.8/surprise/prediction_algorithms\n",
      "  copying surprise/prediction_algorithms/knns.py -> build/lib.macosx-10.9-x86_64-3.8/surprise/prediction_algorithms\n",
      "  copying surprise/prediction_algorithms/predictions.py -> build/lib.macosx-10.9-x86_64-3.8/surprise/prediction_algorithms\n",
      "  copying surprise/prediction_algorithms/__init__.py -> build/lib.macosx-10.9-x86_64-3.8/surprise/prediction_algorithms\n",
      "  copying surprise/prediction_algorithms/random_pred.py -> build/lib.macosx-10.9-x86_64-3.8/surprise/prediction_algorithms\n",
      "  copying surprise/prediction_algorithms/baseline_only.py -> build/lib.macosx-10.9-x86_64-3.8/surprise/prediction_algorithms\n",
      "  creating build/lib.macosx-10.9-x86_64-3.8/surprise/model_selection\n",
      "  copying surprise/model_selection/__init__.py -> build/lib.macosx-10.9-x86_64-3.8/surprise/model_selection\n",
      "  copying surprise/model_selection/split.py -> build/lib.macosx-10.9-x86_64-3.8/surprise/model_selection\n",
      "  copying surprise/model_selection/search.py -> build/lib.macosx-10.9-x86_64-3.8/surprise/model_selection\n",
      "  copying surprise/model_selection/validation.py -> build/lib.macosx-10.9-x86_64-3.8/surprise/model_selection\n",
      "  running egg_info\n",
      "  writing scikit_surprise.egg-info/PKG-INFO\n",
      "  writing dependency_links to scikit_surprise.egg-info/dependency_links.txt\n",
      "  writing entry points to scikit_surprise.egg-info/entry_points.txt\n",
      "  writing requirements to scikit_surprise.egg-info/requires.txt\n",
      "  writing top-level names to scikit_surprise.egg-info/top_level.txt\n",
      "  reading manifest file 'scikit_surprise.egg-info/SOURCES.txt'\n",
      "  reading manifest template 'MANIFEST.in'\n",
      "  writing manifest file 'scikit_surprise.egg-info/SOURCES.txt'\n",
      "  copying surprise/similarities.c -> build/lib.macosx-10.9-x86_64-3.8/surprise\n",
      "  copying surprise/similarities.pyx -> build/lib.macosx-10.9-x86_64-3.8/surprise\n",
      "  copying surprise/prediction_algorithms/co_clustering.c -> build/lib.macosx-10.9-x86_64-3.8/surprise/prediction_algorithms\n",
      "  copying surprise/prediction_algorithms/co_clustering.pyx -> build/lib.macosx-10.9-x86_64-3.8/surprise/prediction_algorithms\n",
      "  copying surprise/prediction_algorithms/matrix_factorization.c -> build/lib.macosx-10.9-x86_64-3.8/surprise/prediction_algorithms\n",
      "  copying surprise/prediction_algorithms/matrix_factorization.pyx -> build/lib.macosx-10.9-x86_64-3.8/surprise/prediction_algorithms\n",
      "  copying surprise/prediction_algorithms/optimize_baselines.c -> build/lib.macosx-10.9-x86_64-3.8/surprise/prediction_algorithms\n",
      "  copying surprise/prediction_algorithms/optimize_baselines.pyx -> build/lib.macosx-10.9-x86_64-3.8/surprise/prediction_algorithms\n",
      "  copying surprise/prediction_algorithms/slope_one.c -> build/lib.macosx-10.9-x86_64-3.8/surprise/prediction_algorithms\n",
      "  copying surprise/prediction_algorithms/slope_one.pyx -> build/lib.macosx-10.9-x86_64-3.8/surprise/prediction_algorithms\n",
      "  running build_ext\n",
      "  building 'surprise.similarities' extension\n",
      "  creating build/temp.macosx-10.9-x86_64-3.8\n",
      "  creating build/temp.macosx-10.9-x86_64-3.8/surprise\n",
      "  gcc -Wno-unused-result -Wsign-compare -Wunreachable-code -DNDEBUG -g -fwrapv -O3 -Wall -Wstrict-prototypes -I/opt/anaconda3/envs/comp135_2020f_env/include -arch x86_64 -I/opt/anaconda3/envs/comp135_2020f_env/include -arch x86_64 -I/opt/anaconda3/envs/comp135_2020f_env/lib/python3.8/site-packages/numpy/core/include -I/opt/anaconda3/envs/comp135_2020f_env/include/python3.8 -c surprise/similarities.c -o build/temp.macosx-10.9-x86_64-3.8/surprise/similarities.o\n",
      "  xcrun: error: invalid active developer path (/Library/Developer/CommandLineTools), missing xcrun at: /Library/Developer/CommandLineTools/usr/bin/xcrun\n",
      "  error: command 'gcc' failed with exit status 1\n",
      "  ----------------------------------------\u001b[0m\n",
      "\u001b[31m  ERROR: Failed building wheel for scikit-surprise\u001b[0m\n",
      "\u001b[?25h  Running setup.py clean for scikit-surprise\n",
      "Failed to build scikit-surprise\n",
      "\u001b[33mDEPRECATION: Could not build wheels for scikit-surprise which do not use PEP 517. pip will fall back to legacy 'setup.py install' for these. pip 21.0 will remove support for this functionality. A possible replacement is to fix the wheel build issue reported above. You can find discussion regarding this at https://github.com/pypa/pip/issues/8368.\u001b[0m\n",
      "Installing collected packages: scikit-surprise, surprise\n",
      "    Running setup.py install for scikit-surprise ... \u001b[?25lerror\n",
      "\u001b[31m    ERROR: Command errored out with exit status 1:\n",
      "     command: /opt/anaconda3/envs/comp135_2020f_env/bin/python -u -c 'import sys, setuptools, tokenize; sys.argv[0] = '\"'\"'/private/var/folders/rt/jk7vrmqn6rs6kdscxxssynzr0000gn/T/pip-install-5ux3h665/scikit-surprise/setup.py'\"'\"'; __file__='\"'\"'/private/var/folders/rt/jk7vrmqn6rs6kdscxxssynzr0000gn/T/pip-install-5ux3h665/scikit-surprise/setup.py'\"'\"';f=getattr(tokenize, '\"'\"'open'\"'\"', open)(__file__);code=f.read().replace('\"'\"'\\r\\n'\"'\"', '\"'\"'\\n'\"'\"');f.close();exec(compile(code, __file__, '\"'\"'exec'\"'\"'))' install --record /private/var/folders/rt/jk7vrmqn6rs6kdscxxssynzr0000gn/T/pip-record-lho2a3o7/install-record.txt --single-version-externally-managed --compile --install-headers /opt/anaconda3/envs/comp135_2020f_env/include/python3.8/scikit-surprise\n",
      "         cwd: /private/var/folders/rt/jk7vrmqn6rs6kdscxxssynzr0000gn/T/pip-install-5ux3h665/scikit-surprise/\n",
      "    Complete output (53 lines):\n",
      "    running install\n",
      "    running build\n",
      "    running build_py\n",
      "    creating build\n",
      "    creating build/lib.macosx-10.9-x86_64-3.8\n",
      "    creating build/lib.macosx-10.9-x86_64-3.8/surprise\n",
      "    copying surprise/builtin_datasets.py -> build/lib.macosx-10.9-x86_64-3.8/surprise\n",
      "    copying surprise/__init__.py -> build/lib.macosx-10.9-x86_64-3.8/surprise\n",
      "    copying surprise/dump.py -> build/lib.macosx-10.9-x86_64-3.8/surprise\n",
      "    copying surprise/dataset.py -> build/lib.macosx-10.9-x86_64-3.8/surprise\n",
      "    copying surprise/reader.py -> build/lib.macosx-10.9-x86_64-3.8/surprise\n",
      "    copying surprise/utils.py -> build/lib.macosx-10.9-x86_64-3.8/surprise\n",
      "    copying surprise/trainset.py -> build/lib.macosx-10.9-x86_64-3.8/surprise\n",
      "    copying surprise/accuracy.py -> build/lib.macosx-10.9-x86_64-3.8/surprise\n",
      "    copying surprise/__main__.py -> build/lib.macosx-10.9-x86_64-3.8/surprise\n",
      "    creating build/lib.macosx-10.9-x86_64-3.8/surprise/prediction_algorithms\n",
      "    copying surprise/prediction_algorithms/algo_base.py -> build/lib.macosx-10.9-x86_64-3.8/surprise/prediction_algorithms\n",
      "    copying surprise/prediction_algorithms/knns.py -> build/lib.macosx-10.9-x86_64-3.8/surprise/prediction_algorithms\n",
      "    copying surprise/prediction_algorithms/predictions.py -> build/lib.macosx-10.9-x86_64-3.8/surprise/prediction_algorithms\n",
      "    copying surprise/prediction_algorithms/__init__.py -> build/lib.macosx-10.9-x86_64-3.8/surprise/prediction_algorithms\n",
      "    copying surprise/prediction_algorithms/random_pred.py -> build/lib.macosx-10.9-x86_64-3.8/surprise/prediction_algorithms\n",
      "    copying surprise/prediction_algorithms/baseline_only.py -> build/lib.macosx-10.9-x86_64-3.8/surprise/prediction_algorithms\n",
      "    creating build/lib.macosx-10.9-x86_64-3.8/surprise/model_selection\n",
      "    copying surprise/model_selection/__init__.py -> build/lib.macosx-10.9-x86_64-3.8/surprise/model_selection\n",
      "    copying surprise/model_selection/split.py -> build/lib.macosx-10.9-x86_64-3.8/surprise/model_selection\n",
      "    copying surprise/model_selection/search.py -> build/lib.macosx-10.9-x86_64-3.8/surprise/model_selection\n",
      "    copying surprise/model_selection/validation.py -> build/lib.macosx-10.9-x86_64-3.8/surprise/model_selection\n",
      "    running egg_info\n",
      "    writing scikit_surprise.egg-info/PKG-INFO\n",
      "    writing dependency_links to scikit_surprise.egg-info/dependency_links.txt\n",
      "    writing entry points to scikit_surprise.egg-info/entry_points.txt\n",
      "    writing requirements to scikit_surprise.egg-info/requires.txt\n",
      "    writing top-level names to scikit_surprise.egg-info/top_level.txt\n",
      "    reading manifest file 'scikit_surprise.egg-info/SOURCES.txt'\n",
      "    reading manifest template 'MANIFEST.in'\n",
      "    writing manifest file 'scikit_surprise.egg-info/SOURCES.txt'\n",
      "    copying surprise/similarities.c -> build/lib.macosx-10.9-x86_64-3.8/surprise\n",
      "    copying surprise/similarities.pyx -> build/lib.macosx-10.9-x86_64-3.8/surprise\n",
      "    copying surprise/prediction_algorithms/co_clustering.c -> build/lib.macosx-10.9-x86_64-3.8/surprise/prediction_algorithms\n",
      "    copying surprise/prediction_algorithms/co_clustering.pyx -> build/lib.macosx-10.9-x86_64-3.8/surprise/prediction_algorithms\n",
      "    copying surprise/prediction_algorithms/matrix_factorization.c -> build/lib.macosx-10.9-x86_64-3.8/surprise/prediction_algorithms\n",
      "    copying surprise/prediction_algorithms/matrix_factorization.pyx -> build/lib.macosx-10.9-x86_64-3.8/surprise/prediction_algorithms\n",
      "    copying surprise/prediction_algorithms/optimize_baselines.c -> build/lib.macosx-10.9-x86_64-3.8/surprise/prediction_algorithms\n",
      "    copying surprise/prediction_algorithms/optimize_baselines.pyx -> build/lib.macosx-10.9-x86_64-3.8/surprise/prediction_algorithms\n",
      "    copying surprise/prediction_algorithms/slope_one.c -> build/lib.macosx-10.9-x86_64-3.8/surprise/prediction_algorithms\n",
      "    copying surprise/prediction_algorithms/slope_one.pyx -> build/lib.macosx-10.9-x86_64-3.8/surprise/prediction_algorithms\n",
      "    running build_ext\n",
      "    building 'surprise.similarities' extension\n",
      "    creating build/temp.macosx-10.9-x86_64-3.8\n",
      "    creating build/temp.macosx-10.9-x86_64-3.8/surprise\n",
      "    gcc -Wno-unused-result -Wsign-compare -Wunreachable-code -DNDEBUG -g -fwrapv -O3 -Wall -Wstrict-prototypes -I/opt/anaconda3/envs/comp135_2020f_env/include -arch x86_64 -I/opt/anaconda3/envs/comp135_2020f_env/include -arch x86_64 -I/opt/anaconda3/envs/comp135_2020f_env/lib/python3.8/site-packages/numpy/core/include -I/opt/anaconda3/envs/comp135_2020f_env/include/python3.8 -c surprise/similarities.c -o build/temp.macosx-10.9-x86_64-3.8/surprise/similarities.o\n",
      "    xcrun: error: invalid active developer path (/Library/Developer/CommandLineTools), missing xcrun at: /Library/Developer/CommandLineTools/usr/bin/xcrun\n",
      "    error: command 'gcc' failed with exit status 1\n",
      "    ----------------------------------------\u001b[0m\n",
      "\u001b[31mERROR: Command errored out with exit status 1: /opt/anaconda3/envs/comp135_2020f_env/bin/python -u -c 'import sys, setuptools, tokenize; sys.argv[0] = '\"'\"'/private/var/folders/rt/jk7vrmqn6rs6kdscxxssynzr0000gn/T/pip-install-5ux3h665/scikit-surprise/setup.py'\"'\"'; __file__='\"'\"'/private/var/folders/rt/jk7vrmqn6rs6kdscxxssynzr0000gn/T/pip-install-5ux3h665/scikit-surprise/setup.py'\"'\"';f=getattr(tokenize, '\"'\"'open'\"'\"', open)(__file__);code=f.read().replace('\"'\"'\\r\\n'\"'\"', '\"'\"'\\n'\"'\"');f.close();exec(compile(code, __file__, '\"'\"'exec'\"'\"'))' install --record /private/var/folders/rt/jk7vrmqn6rs6kdscxxssynzr0000gn/T/pip-record-lho2a3o7/install-record.txt --single-version-externally-managed --compile --install-headers /opt/anaconda3/envs/comp135_2020f_env/include/python3.8/scikit-surprise Check the logs for full command output.\u001b[0m\n"
     ]
    },
    {
     "name": "stdout",
     "output_type": "stream",
     "text": [
      "\u001b[?25hNote: you may need to restart the kernel to use updated packages.\n"
     ]
    }
   ],
   "source": [
    "pip install surprise"
   ]
  },
  {
   "cell_type": "code",
   "execution_count": null,
   "metadata": {},
   "outputs": [],
   "source": []
  }
 ],
 "metadata": {
  "kernelspec": {
   "display_name": "Python 3",
   "language": "python",
   "name": "python3"
  },
  "language_info": {
   "codemirror_mode": {
    "name": "ipython",
    "version": 3
   },
   "file_extension": ".py",
   "mimetype": "text/x-python",
   "name": "python",
   "nbconvert_exporter": "python",
   "pygments_lexer": "ipython3",
   "version": "3.8.5"
  }
 },
 "nbformat": 4,
 "nbformat_minor": 4
}
